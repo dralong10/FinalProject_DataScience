{
 "cells": [
  {
   "cell_type": "markdown",
   "metadata": {},
   "source": [
    "# ĐỒ ÁN CUỐI KÌ MÔN NHẬP MÔN KHOA HỌC DỮ LIỆU\n"
   ]
  },
  {
   "cell_type": "markdown",
   "metadata": {},
   "source": [
    "### Giảng viên hướng dần: Thầy Trần Trung Kiên\n",
    "### Thành viên thực hiện\n",
    "- 1712302 Bùi Lý Chung \n",
    "- 1712575 -Hoàng Xuân Long"
   ]
  },
  {
   "cell_type": "code",
   "execution_count": 346,
   "metadata": {},
   "outputs": [],
   "source": [
    "import requests\n",
    "from bs4 import BeautifulSoup\n",
    "import json\n",
    "import matplotlib.pyplot as plt\n",
    "import seaborn as sns\n",
    "import time\n",
    "import pandas as pd\n",
    "import datetime as dt\n",
    "import re\n",
    "import numpy as np\n",
    "from sklearn.model_selection import train_test_split\n",
    "from sklearn.preprocessing import OneHotEncoder, StandardScaler\n",
    "from sklearn.impute import SimpleImputer\n",
    "from sklearn.base import BaseEstimator, TransformerMixin\n",
    "from sklearn.pipeline import Pipeline, make_pipeline\n",
    "from sklearn.compose import ColumnTransformer, make_column_transformer\n",
    "from sklearn.neural_network import MLPClassifier\n",
    "from sklearn.neural_network import MLPRegressor\n",
    "from sklearn import set_config\n",
    "set_config(display='diagram')"
   ]
  },
  {
   "cell_type": "markdown",
   "metadata": {},
   "source": [
    "---\n",
    "## 1. Thu thập dữ liệu từ web Zillow bằng cách parse HTML \n",
    "File này gồm có các cột:\n",
    "- Address: Địa chỉ nhà.\n",
    "- Price: Gía nhà (là giá của nhà đã bán).\n",
    "- Bedrooms: số phòng ngủ.\n",
    "- Bathrooms: số phòng tắm.\n",
    "- Living Area: Diện tích căn nhà (sqft).\n",
    "- Heating : Hệ thống sưởi.\n",
    "- Basement : Tầng hầm(Yes/No).\n",
    "- Yearbuild: Năm xây dựng.\n",
    "- Fireplace: Lò sưởi(Yes/No).\n",
    "- Garage: Nhà xe.\n"
   ]
  },
  {
   "cell_type": "code",
   "execution_count": 103,
   "metadata": {},
   "outputs": [],
   "source": [
    "Total_pages=20\n",
    "req_headers = {\n",
    "    'accept':'text/html,application/xhtml+xml,application/xml;q=0.9,image/webp,*/*;q=0.8',\n",
    "    'accept-encoding':'gzip, deflate, sdch, br',\n",
    "    'accept-language':'en-GB,en;q=0.8,en-US;q=0.6,ml;q=0.4',\n",
    "    'cache-control':'max-age=0',\n",
    "    'upgrade-insecure-requests':'1',\n",
    "    'user-agent':'Mozilla/5.0 (X11; Linux x86_64) AppleWebKit/537.36 (KHTML, like Gecko) Chrome/56.0.2924.87 Safari/537.36'}\n",
    "courses =pd.DataFrame()\n",
    "Address_ =[]\n",
    "Price_=[]\n",
    "Bedrooms_=[]\n",
    "Bathrooms_ =[]\n",
    "LivingArea_ = []\n",
    "Heating_ =[]\n",
    "Basement_ =[]\n",
    "Yearbuild_ =[]\n",
    "Fireplace_ =[]\n",
    "Garage_ =[]\n",
    "with requests.Session() as s:\n",
    "    page =1\n",
    "    url = 'https://www.zillow.com/manchester-ct/sold/?searchQueryState=%7B\"pagination\"%3A%7B%7D%2C\"usersSearchTerm\"%3A\"Manchester%2C%20CT\"%2C\"mapBounds\"%3A%7B\"west\"%3A-72.62056917797851%2C\"east\"%3A-72.42659182202148%2C\"south\"%3A41.72559685174378%2C\"north\"%3A41.82852106786825%7D%2C\"regionSelection\"%3A%5B%7B\"regionId\"%3A398963%2C\"regionType\"%3A6%7D%5D%2C\"isMapVisible\"%3Atrue%2C\"filterState\"%3A%7B\"fsba\"%3A%7B\"value\"%3Afalse%7D%2C\"fsbo\"%3A%7B\"value\"%3Afalse%7D%2C\"nc\"%3A%7B\"value\"%3Afalse%7D%2C\"fore\"%3A%7B\"value\"%3Afalse%7D%2C\"cmsn\"%3A%7B\"value\"%3Afalse%7D%2C\"auc\"%3A%7B\"value\"%3Afalse%7D%2C\"pmf\"%3A%7B\"value\"%3Afalse%7D%2C\"pf\"%3A%7B\"value\"%3Afalse%7D%2C\"rs\"%3A%7B\"value\"%3Atrue%7D%2C\"ah\"%3A%7B\"value\"%3Atrue%7D%7D%2C\"isListVisible\"%3Atrue%2C\"mapZoom\"%3A13%7D'\n",
    "    while(page < Total_pages):\n",
    "        #time.sleep(1)\n",
    "        r = s.get(url, headers=req_headers)\n",
    "        soup = BeautifulSoup(r.content, 'html.parser')\n",
    "        detailLink = soup.find_all('a',{'class':'list-card-link list-card-link-top-margin list-card-img'})\n",
    "        prices = soup.find_all('div',{'class':'list-card-price'})\n",
    "        for price in prices:\n",
    "            Price_.append(price.text)\n",
    "        address = soup.find_all('address',{'class':'list-card-addr'})\n",
    "        for addr in address:\n",
    "            Address_.append(addr.text)\n",
    "        page+=1\n",
    "        url ='https://www.zillow.com/manchester-nh/sold/' +str(page)+'_p/'\n",
    "        for link in detailLink:\n",
    "            detail = s.get(link['href'],headers=req_headers)\n",
    "            soup1 = BeautifulSoup(detail.content, 'html.parser')\n",
    "            bbl = soup1.find_all('span',{'class':'ds-bed-bath-living-area'},limit =3) # bed-bad-livingarea\n",
    "            bed_bad_livingarea =''\n",
    "            for i in bbl:\n",
    "                bed_bad_livingarea+= i.text +'\\t'\n",
    "            Bedrooms_.append(bed_bad_livingarea.split('\\t')[0])\n",
    "            Bathrooms_.append(bed_bad_livingarea.split('\\t')[1])\n",
    "            LivingArea_.append(bed_bad_livingarea.split('\\t')[2])\n",
    "            heating = soup1.find(\"span\",string=re.compile(\"Heating:\"))\n",
    "            if heating is not None:\n",
    "                heating = heating.find_next_sibling('span').text\n",
    "                Heating_.append(heating)\n",
    "            else:\n",
    "                Heating_.append('None')\n",
    "            basement = soup1.find(\"span\",string=re.compile(\"Basement\"))\n",
    "            if basement is not None:\n",
    "                if ':' in basement.find_next('span').text:\n",
    "                    basement = basement.find_next('span').text.split(':')[1]\n",
    "                    Basement_.append(basement)\n",
    "                else:\n",
    "                    Basement_.append('None')\n",
    "            else:\n",
    "                    Basement_.append('None')\n",
    "            yearbuild = soup1.find(\"span\",string=re.compile(\"Condition\"))\n",
    "            if yearbuild is not None:\n",
    "                if ':' in yearbuild.find_next('span').text:\n",
    "                    yearbuild = yearbuild.find_next('span').text.split(': ')[1]\n",
    "                    Yearbuild_.append(yearbuild)\n",
    "                else:\n",
    "                    Yearbuild_.append('None')\n",
    "            else:\n",
    "                    Yearbuild_.append('None')\n",
    "\n",
    "            fireplace = soup1.find(\"h5\",string=re.compile(\"Property details\"))\n",
    "            if fireplace is not None:\n",
    "                if 'Fireplace:' in fireplace.find_previous('span').text:\n",
    "                    fireplace = fireplace.find_previous('span').text.split(': ')[1]\n",
    "                    Fireplace_.append(fireplace)\n",
    "                else:\n",
    "                    Fireplace_.append('None')\n",
    "            else:\n",
    "                    Fireplace_.append('None')\n",
    "\n",
    "            garage = soup1.find(\"span\",string=re.compile(\"Property\"))\n",
    "            if garage is not None:\n",
    "                if 'Garage spaces:' in garage.find_previous('span').text:\n",
    "                    garage = garage.find_previous('span').text.split(': ')[1]\n",
    "                    Garage_.append(garage)\n",
    "                else:\n",
    "                    Garage_.append('None')\n",
    "            else:\n",
    "                    Garage_.append('None')\n",
    "\n",
    "courses['Address'] = Address_\n",
    "courses['Bedrooms'] = Bedrooms_\n",
    "courses['Bathrooms'] = Bathrooms_\n",
    "courses['LivingArea'] = LivingArea_\n",
    "courses['Heating'] = Heating_\n",
    "courses['Basement'] = Basement_\n",
    "courses['YearBuild'] = Yearbuild_\n",
    "courses['Fireplace'] = Fireplace_\n",
    "courses['Garage'] = Garage_\n",
    "courses['Price'] = Price_\n",
    "courses.to_csv('courses.csv')"
   ]
  },
  {
   "cell_type": "markdown",
   "metadata": {},
   "source": [
    "---\n",
    "## 2. Khám phá dữ liệu"
   ]
  },
  {
   "cell_type": "code",
   "execution_count": 201,
   "metadata": {},
   "outputs": [
    {
     "data": {
      "text/html": [
       "<div>\n",
       "<style scoped>\n",
       "    .dataframe tbody tr th:only-of-type {\n",
       "        vertical-align: middle;\n",
       "    }\n",
       "\n",
       "    .dataframe tbody tr th {\n",
       "        vertical-align: top;\n",
       "    }\n",
       "\n",
       "    .dataframe thead th {\n",
       "        text-align: right;\n",
       "    }\n",
       "</style>\n",
       "<table border=\"1\" class=\"dataframe\">\n",
       "  <thead>\n",
       "    <tr style=\"text-align: right;\">\n",
       "      <th></th>\n",
       "      <th>Address</th>\n",
       "      <th>Bedrooms</th>\n",
       "      <th>Bathrooms</th>\n",
       "      <th>LivingArea</th>\n",
       "      <th>Heating</th>\n",
       "      <th>Basement</th>\n",
       "      <th>YearBuild</th>\n",
       "      <th>Fireplace</th>\n",
       "      <th>Garage</th>\n",
       "      <th>Price</th>\n",
       "    </tr>\n",
       "  </thead>\n",
       "  <tbody>\n",
       "    <tr>\n",
       "      <th>0</th>\n",
       "      <td>216 Walek Farms Rd, Manchester, CT 06040</td>\n",
       "      <td>3 bd</td>\n",
       "      <td>3 ba</td>\n",
       "      <td>2,556 sqft</td>\n",
       "      <td>Baseboard, Gas</td>\n",
       "      <td>Finished</td>\n",
       "      <td>1995</td>\n",
       "      <td>Yes</td>\n",
       "      <td>2</td>\n",
       "      <td>$300,000</td>\n",
       "    </tr>\n",
       "    <tr>\n",
       "      <th>1</th>\n",
       "      <td>39 S Hawthorne St, Manchester, CT 06040</td>\n",
       "      <td>3 bd</td>\n",
       "      <td>1 ba</td>\n",
       "      <td>1,080 sqft</td>\n",
       "      <td>Forced air, Gas</td>\n",
       "      <td>Partially finished</td>\n",
       "      <td>1945</td>\n",
       "      <td>None</td>\n",
       "      <td>0</td>\n",
       "      <td>$170,000</td>\n",
       "    </tr>\n",
       "    <tr>\n",
       "      <th>2</th>\n",
       "      <td>16 Saddle Hill Rd, Manchester, CT 06040</td>\n",
       "      <td>4 bd</td>\n",
       "      <td>4 ba</td>\n",
       "      <td>3,832 sqft</td>\n",
       "      <td>Forced air</td>\n",
       "      <td>Finished</td>\n",
       "      <td>2007</td>\n",
       "      <td>Yes</td>\n",
       "      <td>2</td>\n",
       "      <td>$447,900</td>\n",
       "    </tr>\n",
       "    <tr>\n",
       "      <th>3</th>\n",
       "      <td>99 Pond Ln, Manchester, CT 06042</td>\n",
       "      <td>4 bd</td>\n",
       "      <td>3 ba</td>\n",
       "      <td>1,852 sqft</td>\n",
       "      <td>Forced air, Oil</td>\n",
       "      <td>NaN</td>\n",
       "      <td>1964</td>\n",
       "      <td>Yes</td>\n",
       "      <td>3</td>\n",
       "      <td>$299,000</td>\n",
       "    </tr>\n",
       "    <tr>\n",
       "      <th>4</th>\n",
       "      <td>430 E Center St #430, Manchester, CT 06040</td>\n",
       "      <td>1 bd</td>\n",
       "      <td>1.5 ba</td>\n",
       "      <td>1,074 sqft</td>\n",
       "      <td>Forced air, Gas</td>\n",
       "      <td>None</td>\n",
       "      <td>1976</td>\n",
       "      <td>None</td>\n",
       "      <td>0</td>\n",
       "      <td>$1,200</td>\n",
       "    </tr>\n",
       "    <tr>\n",
       "      <th>5</th>\n",
       "      <td>443 Main St, Manchester, CT 06040</td>\n",
       "      <td>-- bd</td>\n",
       "      <td>5 ba</td>\n",
       "      <td>6,079 sqft</td>\n",
       "      <td>Forced air, Gas, Oil</td>\n",
       "      <td>Full With Hatchway</td>\n",
       "      <td>1900</td>\n",
       "      <td>None</td>\n",
       "      <td>0</td>\n",
       "      <td>$378,500</td>\n",
       "    </tr>\n",
       "    <tr>\n",
       "      <th>6</th>\n",
       "      <td>40 S Alton St, Manchester, CT 06040</td>\n",
       "      <td>4 bd</td>\n",
       "      <td>1 ba</td>\n",
       "      <td>1,155 sqft</td>\n",
       "      <td>Forced air, Gas</td>\n",
       "      <td>Full With Hatchway</td>\n",
       "      <td>1945</td>\n",
       "      <td>None</td>\n",
       "      <td>0</td>\n",
       "      <td>$175,000</td>\n",
       "    </tr>\n",
       "    <tr>\n",
       "      <th>7</th>\n",
       "      <td>11 Durant St, Manchester, CT 06040</td>\n",
       "      <td>3 bd</td>\n",
       "      <td>2 ba</td>\n",
       "      <td>1,416 sqft</td>\n",
       "      <td>Baseboard, Other, Gas</td>\n",
       "      <td>Finished</td>\n",
       "      <td>1950</td>\n",
       "      <td>Yes</td>\n",
       "      <td>4</td>\n",
       "      <td>$195,000</td>\n",
       "    </tr>\n",
       "    <tr>\n",
       "      <th>8</th>\n",
       "      <td>180 Mountain Rd, Manchester, CT 06040</td>\n",
       "      <td>4 bd</td>\n",
       "      <td>2 ba</td>\n",
       "      <td>2,628 sqft</td>\n",
       "      <td>Other, Oil</td>\n",
       "      <td>Unfinished, Interior Entry, Full With Walk-Ou...</td>\n",
       "      <td>1959</td>\n",
       "      <td>Yes</td>\n",
       "      <td>2</td>\n",
       "      <td>$265,000</td>\n",
       "    </tr>\n",
       "    <tr>\n",
       "      <th>9</th>\n",
       "      <td>33 Hartland Rd, Manchester, CT 06042</td>\n",
       "      <td>3 bd</td>\n",
       "      <td>2 ba</td>\n",
       "      <td>2,040 sqft</td>\n",
       "      <td>Baseboard, Oil</td>\n",
       "      <td>Finished</td>\n",
       "      <td>1951</td>\n",
       "      <td>Yes</td>\n",
       "      <td>None</td>\n",
       "      <td>$215,000</td>\n",
       "    </tr>\n",
       "  </tbody>\n",
       "</table>\n",
       "</div>"
      ],
      "text/plain": [
       "                                      Address Bedrooms Bathrooms  LivingArea  \\\n",
       "0    216 Walek Farms Rd, Manchester, CT 06040     3 bd      3 ba  2,556 sqft   \n",
       "1     39 S Hawthorne St, Manchester, CT 06040     3 bd      1 ba  1,080 sqft   \n",
       "2     16 Saddle Hill Rd, Manchester, CT 06040     4 bd      4 ba  3,832 sqft   \n",
       "3            99 Pond Ln, Manchester, CT 06042     4 bd      3 ba  1,852 sqft   \n",
       "4  430 E Center St #430, Manchester, CT 06040     1 bd    1.5 ba  1,074 sqft   \n",
       "5           443 Main St, Manchester, CT 06040    -- bd      5 ba  6,079 sqft   \n",
       "6         40 S Alton St, Manchester, CT 06040     4 bd      1 ba  1,155 sqft   \n",
       "7          11 Durant St, Manchester, CT 06040     3 bd      2 ba  1,416 sqft   \n",
       "8       180 Mountain Rd, Manchester, CT 06040     4 bd      2 ba  2,628 sqft   \n",
       "9        33 Hartland Rd, Manchester, CT 06042     3 bd      2 ba  2,040 sqft   \n",
       "\n",
       "                 Heating                                           Basement  \\\n",
       "0         Baseboard, Gas                                           Finished   \n",
       "1        Forced air, Gas                                 Partially finished   \n",
       "2             Forced air                                           Finished   \n",
       "3        Forced air, Oil                                                NaN   \n",
       "4        Forced air, Gas                                               None   \n",
       "5   Forced air, Gas, Oil                                 Full With Hatchway   \n",
       "6        Forced air, Gas                                 Full With Hatchway   \n",
       "7  Baseboard, Other, Gas                                           Finished   \n",
       "8             Other, Oil   Unfinished, Interior Entry, Full With Walk-Ou...   \n",
       "9         Baseboard, Oil                                           Finished   \n",
       "\n",
       "  YearBuild Fireplace Garage     Price  \n",
       "0      1995       Yes      2  $300,000  \n",
       "1      1945      None      0  $170,000  \n",
       "2      2007       Yes      2  $447,900  \n",
       "3      1964       Yes      3  $299,000  \n",
       "4      1976      None      0    $1,200  \n",
       "5      1900      None      0  $378,500  \n",
       "6      1945      None      0  $175,000  \n",
       "7      1950       Yes      4  $195,000  \n",
       "8      1959       Yes      2  $265,000  \n",
       "9      1951       Yes   None  $215,000  "
      ]
     },
     "execution_count": 201,
     "metadata": {},
     "output_type": "execute_result"
    }
   ],
   "source": [
    "# Đọc dữ liệu\n",
    "House_df = pd.read_csv('courses.csv',index_col=0)\n",
    "House_df.head(10)"
   ]
  },
  {
   "cell_type": "markdown",
   "metadata": {},
   "source": [
    "### Shape của dữ liệu"
   ]
  },
  {
   "cell_type": "code",
   "execution_count": 202,
   "metadata": {},
   "outputs": [
    {
     "data": {
      "text/plain": [
       "(360, 10)"
      ]
     },
     "execution_count": 202,
     "metadata": {},
     "output_type": "execute_result"
    }
   ],
   "source": [
    "House_df.shape"
   ]
  },
  {
   "cell_type": "markdown",
   "metadata": {},
   "source": [
    "### Khám phá output"
   ]
  },
  {
   "cell_type": "code",
   "execution_count": 203,
   "metadata": {},
   "outputs": [
    {
     "data": {
      "text/plain": [
       "dtype('O')"
      ]
     },
     "execution_count": 203,
     "metadata": {},
     "output_type": "execute_result"
    }
   ],
   "source": [
    "# Cột output hiện có kiểu dữ liệu gì?\n",
    "House_df['Price'].dtype"
   ]
  },
  {
   "cell_type": "code",
   "execution_count": 204,
   "metadata": {},
   "outputs": [
    {
     "data": {
      "text/plain": [
       "0"
      ]
     },
     "execution_count": 204,
     "metadata": {},
     "output_type": "execute_result"
    }
   ],
   "source": [
    "# Cột output có giá trị thiếu không?\n",
    "House_df['Price'].isna().sum()"
   ]
  },
  {
   "cell_type": "markdown",
   "metadata": {},
   "source": [
    "### Describe Data"
   ]
  },
  {
   "cell_type": "code",
   "execution_count": 205,
   "metadata": {},
   "outputs": [
    {
     "data": {
      "text/html": [
       "<div>\n",
       "<style scoped>\n",
       "    .dataframe tbody tr th:only-of-type {\n",
       "        vertical-align: middle;\n",
       "    }\n",
       "\n",
       "    .dataframe tbody tr th {\n",
       "        vertical-align: top;\n",
       "    }\n",
       "\n",
       "    .dataframe thead th {\n",
       "        text-align: right;\n",
       "    }\n",
       "</style>\n",
       "<table border=\"1\" class=\"dataframe\">\n",
       "  <thead>\n",
       "    <tr style=\"text-align: right;\">\n",
       "      <th></th>\n",
       "      <th>Address</th>\n",
       "      <th>Bedrooms</th>\n",
       "      <th>Bathrooms</th>\n",
       "      <th>LivingArea</th>\n",
       "      <th>Heating</th>\n",
       "      <th>Basement</th>\n",
       "      <th>YearBuild</th>\n",
       "      <th>Fireplace</th>\n",
       "      <th>Garage</th>\n",
       "      <th>Price</th>\n",
       "    </tr>\n",
       "  </thead>\n",
       "  <tbody>\n",
       "    <tr>\n",
       "      <th>count</th>\n",
       "      <td>360</td>\n",
       "      <td>360</td>\n",
       "      <td>360</td>\n",
       "      <td>360</td>\n",
       "      <td>360</td>\n",
       "      <td>358</td>\n",
       "      <td>360</td>\n",
       "      <td>360</td>\n",
       "      <td>360</td>\n",
       "      <td>360</td>\n",
       "    </tr>\n",
       "    <tr>\n",
       "      <th>unique</th>\n",
       "      <td>349</td>\n",
       "      <td>13</td>\n",
       "      <td>10</td>\n",
       "      <td>298</td>\n",
       "      <td>67</td>\n",
       "      <td>20</td>\n",
       "      <td>104</td>\n",
       "      <td>2</td>\n",
       "      <td>9</td>\n",
       "      <td>208</td>\n",
       "    </tr>\n",
       "    <tr>\n",
       "      <th>top</th>\n",
       "      <td>174 Morse Rd UNIT 8, Manchester, NH 03104</td>\n",
       "      <td>3 bd</td>\n",
       "      <td>2 ba</td>\n",
       "      <td>1,200 sqft</td>\n",
       "      <td>Forced air, Gas</td>\n",
       "      <td>Yes</td>\n",
       "      <td>1950</td>\n",
       "      <td>None</td>\n",
       "      <td>0</td>\n",
       "      <td>$270,000</td>\n",
       "    </tr>\n",
       "    <tr>\n",
       "      <th>freq</th>\n",
       "      <td>2</td>\n",
       "      <td>146</td>\n",
       "      <td>121</td>\n",
       "      <td>5</td>\n",
       "      <td>55</td>\n",
       "      <td>191</td>\n",
       "      <td>20</td>\n",
       "      <td>281</td>\n",
       "      <td>132</td>\n",
       "      <td>8</td>\n",
       "    </tr>\n",
       "  </tbody>\n",
       "</table>\n",
       "</div>"
      ],
      "text/plain": [
       "                                          Address Bedrooms Bathrooms  \\\n",
       "count                                         360      360       360   \n",
       "unique                                        349       13        10   \n",
       "top     174 Morse Rd UNIT 8, Manchester, NH 03104     3 bd      2 ba   \n",
       "freq                                            2      146       121   \n",
       "\n",
       "        LivingArea          Heating Basement YearBuild Fireplace Garage  \\\n",
       "count          360              360      358       360       360    360   \n",
       "unique         298               67       20       104         2      9   \n",
       "top     1,200 sqft  Forced air, Gas      Yes      1950      None      0   \n",
       "freq             5               55      191        20       281    132   \n",
       "\n",
       "           Price  \n",
       "count        360  \n",
       "unique       208  \n",
       "top     $270,000  \n",
       "freq           8  "
      ]
     },
     "execution_count": 205,
     "metadata": {},
     "output_type": "execute_result"
    }
   ],
   "source": [
    "# xem thêm mô tả về dữ liệu\n",
    "House_df.describe()"
   ]
  },
  {
   "cell_type": "markdown",
   "metadata": {},
   "source": [
    "- Ta thấy cột Address có giá trị xuất hiện 2 lần, có nghĩa là có giá trị bị lặp\n",
    "- Điều này là do zillow thường render 1 cách random(theo cách nào đó) các ngôi nhà ĐÃ BÁN -> bị lặp"
   ]
  },
  {
   "cell_type": "code",
   "execution_count": 206,
   "metadata": {},
   "outputs": [
    {
     "data": {
      "text/plain": [
       "11"
      ]
     },
     "execution_count": 206,
     "metadata": {},
     "output_type": "execute_result"
    }
   ],
   "source": [
    "# kiểm tra dữ liệu xem bị lặp bao nhiêu lần\n",
    "House_df.Address.duplicated().sum()"
   ]
  },
  {
   "cell_type": "markdown",
   "metadata": {},
   "source": [
    "## Đưa ra câu hỏi cần trả lời\n",
    "\n",
    "\n",
    "Output - Price (Giá nhà) - được tính từ input - các thông tin của căn nhà theo công thức nào?\n",
    "\n",
    "\n",
    "\n"
   ]
  },
  {
   "cell_type": "markdown",
   "metadata": {},
   "source": [
    "---\n",
    "## 3. Tiền xử lý dữ liệu\n"
   ]
  },
  {
   "cell_type": "markdown",
   "metadata": {},
   "source": [
    "### Xử lí thô\n"
   ]
  },
  {
   "cell_type": "code",
   "execution_count": 207,
   "metadata": {},
   "outputs": [
    {
     "data": {
      "text/html": [
       "<div>\n",
       "<style scoped>\n",
       "    .dataframe tbody tr th:only-of-type {\n",
       "        vertical-align: middle;\n",
       "    }\n",
       "\n",
       "    .dataframe tbody tr th {\n",
       "        vertical-align: top;\n",
       "    }\n",
       "\n",
       "    .dataframe thead th {\n",
       "        text-align: right;\n",
       "    }\n",
       "</style>\n",
       "<table border=\"1\" class=\"dataframe\">\n",
       "  <thead>\n",
       "    <tr style=\"text-align: right;\">\n",
       "      <th></th>\n",
       "      <th>Address</th>\n",
       "      <th>Bedrooms</th>\n",
       "      <th>Bathrooms</th>\n",
       "      <th>LivingArea</th>\n",
       "      <th>Heating</th>\n",
       "      <th>Basement</th>\n",
       "      <th>YearBuild</th>\n",
       "      <th>Fireplace</th>\n",
       "      <th>Garage</th>\n",
       "      <th>Price</th>\n",
       "    </tr>\n",
       "  </thead>\n",
       "  <tbody>\n",
       "    <tr>\n",
       "      <th>0</th>\n",
       "      <td>216 Walek Farms Rd, Manchester, CT 06040</td>\n",
       "      <td>3 bd</td>\n",
       "      <td>3 ba</td>\n",
       "      <td>2,556 sqft</td>\n",
       "      <td>Baseboard, Gas</td>\n",
       "      <td>Finished</td>\n",
       "      <td>1995</td>\n",
       "      <td>Yes</td>\n",
       "      <td>2</td>\n",
       "      <td>$300,000</td>\n",
       "    </tr>\n",
       "    <tr>\n",
       "      <th>1</th>\n",
       "      <td>39 S Hawthorne St, Manchester, CT 06040</td>\n",
       "      <td>3 bd</td>\n",
       "      <td>1 ba</td>\n",
       "      <td>1,080 sqft</td>\n",
       "      <td>Forced air, Gas</td>\n",
       "      <td>Partially finished</td>\n",
       "      <td>1945</td>\n",
       "      <td>None</td>\n",
       "      <td>0</td>\n",
       "      <td>$170,000</td>\n",
       "    </tr>\n",
       "    <tr>\n",
       "      <th>2</th>\n",
       "      <td>16 Saddle Hill Rd, Manchester, CT 06040</td>\n",
       "      <td>4 bd</td>\n",
       "      <td>4 ba</td>\n",
       "      <td>3,832 sqft</td>\n",
       "      <td>Forced air</td>\n",
       "      <td>Finished</td>\n",
       "      <td>2007</td>\n",
       "      <td>Yes</td>\n",
       "      <td>2</td>\n",
       "      <td>$447,900</td>\n",
       "    </tr>\n",
       "    <tr>\n",
       "      <th>3</th>\n",
       "      <td>99 Pond Ln, Manchester, CT 06042</td>\n",
       "      <td>4 bd</td>\n",
       "      <td>3 ba</td>\n",
       "      <td>1,852 sqft</td>\n",
       "      <td>Forced air, Oil</td>\n",
       "      <td>NaN</td>\n",
       "      <td>1964</td>\n",
       "      <td>Yes</td>\n",
       "      <td>3</td>\n",
       "      <td>$299,000</td>\n",
       "    </tr>\n",
       "    <tr>\n",
       "      <th>4</th>\n",
       "      <td>430 E Center St #430, Manchester, CT 06040</td>\n",
       "      <td>1 bd</td>\n",
       "      <td>1.5 ba</td>\n",
       "      <td>1,074 sqft</td>\n",
       "      <td>Forced air, Gas</td>\n",
       "      <td>None</td>\n",
       "      <td>1976</td>\n",
       "      <td>None</td>\n",
       "      <td>0</td>\n",
       "      <td>$1,200</td>\n",
       "    </tr>\n",
       "    <tr>\n",
       "      <th>...</th>\n",
       "      <td>...</td>\n",
       "      <td>...</td>\n",
       "      <td>...</td>\n",
       "      <td>...</td>\n",
       "      <td>...</td>\n",
       "      <td>...</td>\n",
       "      <td>...</td>\n",
       "      <td>...</td>\n",
       "      <td>...</td>\n",
       "      <td>...</td>\n",
       "    </tr>\n",
       "    <tr>\n",
       "      <th>355</th>\n",
       "      <td>3 Country Club Dr APT 303, Manchester, NH 03102</td>\n",
       "      <td>2 bd</td>\n",
       "      <td>2 ba</td>\n",
       "      <td>1,468 sqft</td>\n",
       "      <td>Forced air, Electric, Gas</td>\n",
       "      <td>None</td>\n",
       "      <td>2005</td>\n",
       "      <td>Yes</td>\n",
       "      <td>1</td>\n",
       "      <td>$360,000</td>\n",
       "    </tr>\n",
       "    <tr>\n",
       "      <th>356</th>\n",
       "      <td>171 Laval St, Manchester, NH 03102</td>\n",
       "      <td>3 bd</td>\n",
       "      <td>2 ba</td>\n",
       "      <td>1,638 sqft</td>\n",
       "      <td>Gas</td>\n",
       "      <td>Yes</td>\n",
       "      <td>1890</td>\n",
       "      <td>None</td>\n",
       "      <td>1</td>\n",
       "      <td>$274,933</td>\n",
       "    </tr>\n",
       "    <tr>\n",
       "      <th>357</th>\n",
       "      <td>467 Hevey St, Manchester, NH 03102</td>\n",
       "      <td>8 bd</td>\n",
       "      <td>3 ba</td>\n",
       "      <td>3,200 sqft</td>\n",
       "      <td>Forced air, Electric, Gas</td>\n",
       "      <td>Unfinished</td>\n",
       "      <td>1896</td>\n",
       "      <td>None</td>\n",
       "      <td>6</td>\n",
       "      <td>$345,777</td>\n",
       "    </tr>\n",
       "    <tr>\n",
       "      <th>358</th>\n",
       "      <td>40 Green Meadow Ln, Manchester, NH 03109</td>\n",
       "      <td>4 bd</td>\n",
       "      <td>3 ba</td>\n",
       "      <td>2,116 sqft</td>\n",
       "      <td>Forced air, Gas</td>\n",
       "      <td>Yes</td>\n",
       "      <td>1999</td>\n",
       "      <td>None</td>\n",
       "      <td>2</td>\n",
       "      <td>$392,000</td>\n",
       "    </tr>\n",
       "    <tr>\n",
       "      <th>359</th>\n",
       "      <td>56 Stewart St, Manchester, NH 03102</td>\n",
       "      <td>3 bd</td>\n",
       "      <td>2 ba</td>\n",
       "      <td>1,845 sqft</td>\n",
       "      <td>Gas</td>\n",
       "      <td>Yes</td>\n",
       "      <td>1910</td>\n",
       "      <td>Yes</td>\n",
       "      <td>0</td>\n",
       "      <td>$342,533</td>\n",
       "    </tr>\n",
       "  </tbody>\n",
       "</table>\n",
       "<p>349 rows × 10 columns</p>\n",
       "</div>"
      ],
      "text/plain": [
       "                                             Address Bedrooms Bathrooms  \\\n",
       "0           216 Walek Farms Rd, Manchester, CT 06040     3 bd      3 ba   \n",
       "1            39 S Hawthorne St, Manchester, CT 06040     3 bd      1 ba   \n",
       "2            16 Saddle Hill Rd, Manchester, CT 06040     4 bd      4 ba   \n",
       "3                   99 Pond Ln, Manchester, CT 06042     4 bd      3 ba   \n",
       "4         430 E Center St #430, Manchester, CT 06040     1 bd    1.5 ba   \n",
       "..                                               ...      ...       ...   \n",
       "355  3 Country Club Dr APT 303, Manchester, NH 03102     2 bd      2 ba   \n",
       "356               171 Laval St, Manchester, NH 03102     3 bd      2 ba   \n",
       "357               467 Hevey St, Manchester, NH 03102     8 bd      3 ba   \n",
       "358         40 Green Meadow Ln, Manchester, NH 03109     4 bd      3 ba   \n",
       "359              56 Stewart St, Manchester, NH 03102     3 bd      2 ba   \n",
       "\n",
       "     LivingArea                    Heating             Basement YearBuild  \\\n",
       "0    2,556 sqft             Baseboard, Gas             Finished      1995   \n",
       "1    1,080 sqft            Forced air, Gas   Partially finished      1945   \n",
       "2    3,832 sqft                 Forced air             Finished      2007   \n",
       "3    1,852 sqft            Forced air, Oil                  NaN      1964   \n",
       "4    1,074 sqft            Forced air, Gas                 None      1976   \n",
       "..          ...                        ...                  ...       ...   \n",
       "355  1,468 sqft  Forced air, Electric, Gas                 None      2005   \n",
       "356  1,638 sqft                        Gas                  Yes      1890   \n",
       "357  3,200 sqft  Forced air, Electric, Gas           Unfinished      1896   \n",
       "358  2,116 sqft            Forced air, Gas                  Yes      1999   \n",
       "359  1,845 sqft                        Gas                  Yes      1910   \n",
       "\n",
       "    Fireplace Garage     Price  \n",
       "0         Yes      2  $300,000  \n",
       "1        None      0  $170,000  \n",
       "2         Yes      2  $447,900  \n",
       "3         Yes      3  $299,000  \n",
       "4        None      0    $1,200  \n",
       "..        ...    ...       ...  \n",
       "355       Yes      1  $360,000  \n",
       "356      None      1  $274,933  \n",
       "357      None      6  $345,777  \n",
       "358      None      2  $392,000  \n",
       "359       Yes      0  $342,533  \n",
       "\n",
       "[349 rows x 10 columns]"
      ]
     },
     "execution_count": 207,
     "metadata": {},
     "output_type": "execute_result"
    }
   ],
   "source": [
    "# như đã khám phá, ta biết dữ liệu bị lặp, ta sẽ loại bỏ những giá trị lặp\n",
    "House_df.drop_duplicates(subset=['Address'])"
   ]
  },
  {
   "cell_type": "code",
   "execution_count": 208,
   "metadata": {},
   "outputs": [
    {
     "data": {
      "text/plain": [
       "array([ 3.,  4.,  1., nan,  2.,  6.,  7.,  5., 10., 12., 18.,  8.,  9.])"
      ]
     },
     "execution_count": 208,
     "metadata": {},
     "output_type": "execute_result"
    }
   ],
   "source": [
    "# tiền xử lý cột bedrooms\n",
    "# Loại bỏ kí tự \"bd\", giữ lại số\n",
    "# với những giá trị thiếu, ví dụ \"-- bd\" ta thay bằng np.nan\n",
    "for idx,value in House_df['Bedrooms'].items():\n",
    "    num = value.split(' ')[0]\n",
    "    if num == '--':\n",
    "        House_df['Bedrooms'][idx]= np.nan\n",
    "    else:\n",
    "        House_df['Bedrooms'][idx]= num\n",
    "House_df['Bedrooms'] = pd.to_numeric(House_df['Bedrooms'],errors = 'coerce')\n",
    "House_df['Bedrooms'].unique()"
   ]
  },
  {
   "cell_type": "code",
   "execution_count": 209,
   "metadata": {},
   "outputs": [
    {
     "name": "stderr",
     "output_type": "stream",
     "text": [
      "<ipython-input-209-fa506783d3ad>:9: SettingWithCopyWarning: \n",
      "A value is trying to be set on a copy of a slice from a DataFrame\n",
      "\n",
      "See the caveats in the documentation: https://pandas.pydata.org/pandas-docs/stable/user_guide/indexing.html#returning-a-view-versus-a-copy\n",
      "  House_df['Bathrooms'][idx]= num\n",
      "<ipython-input-209-fa506783d3ad>:7: SettingWithCopyWarning: \n",
      "A value is trying to be set on a copy of a slice from a DataFrame\n",
      "\n",
      "See the caveats in the documentation: https://pandas.pydata.org/pandas-docs/stable/user_guide/indexing.html#returning-a-view-versus-a-copy\n",
      "  House_df['Bathrooms'][idx]= np.nan\n"
     ]
    },
    {
     "data": {
      "text/plain": [
       "array([3.  , 1.  , 4.  , 1.5 , 5.  , 2.  , 2.5 ,  nan, 3.5 , 1.75])"
      ]
     },
     "execution_count": 209,
     "metadata": {},
     "output_type": "execute_result"
    }
   ],
   "source": [
    "# tiền xử lý cột Bathrooms\n",
    "# Loại bỏ kí tự \"ba\", giữ lại số\n",
    "# với những giá trị thiếu, ví dụ \"-- ba\" ta thay bằng np.nan\n",
    "for idx,value in House_df['Bathrooms'].items():\n",
    "    num = value.split(' ')[0]\n",
    "    if num == '--':\n",
    "        House_df['Bathrooms'][idx]= np.nan\n",
    "    else:\n",
    "        House_df['Bathrooms'][idx]= num\n",
    "House_df['Bathrooms'] = pd.to_numeric(House_df['Bathrooms'],errors = 'coerce')\n",
    "House_df['Bathrooms'].unique()"
   ]
  },
  {
   "cell_type": "code",
   "execution_count": 210,
   "metadata": {},
   "outputs": [
    {
     "name": "stderr",
     "output_type": "stream",
     "text": [
      "<ipython-input-210-60c0d11486f9>:5: SettingWithCopyWarning: \n",
      "A value is trying to be set on a copy of a slice from a DataFrame\n",
      "\n",
      "See the caveats in the documentation: https://pandas.pydata.org/pandas-docs/stable/user_guide/indexing.html#returning-a-view-versus-a-copy\n",
      "  House_df['LivingArea'][idx] = value.replace(\",\",\".\")\n",
      "<ipython-input-210-60c0d11486f9>:11: SettingWithCopyWarning: \n",
      "A value is trying to be set on a copy of a slice from a DataFrame\n",
      "\n",
      "See the caveats in the documentation: https://pandas.pydata.org/pandas-docs/stable/user_guide/indexing.html#returning-a-view-versus-a-copy\n",
      "  House_df['LivingArea'][idx]= num\n",
      "<ipython-input-210-60c0d11486f9>:9: SettingWithCopyWarning: \n",
      "A value is trying to be set on a copy of a slice from a DataFrame\n",
      "\n",
      "See the caveats in the documentation: https://pandas.pydata.org/pandas-docs/stable/user_guide/indexing.html#returning-a-view-versus-a-copy\n",
      "  House_df['LivingArea'][idx]= np.nan\n"
     ]
    },
    {
     "data": {
      "text/plain": [
       "0      2.556\n",
       "1      1.080\n",
       "2      3.832\n",
       "3      1.852\n",
       "4      1.074\n",
       "       ...  \n",
       "355    1.468\n",
       "356    1.638\n",
       "357    3.200\n",
       "358    2.116\n",
       "359    1.845\n",
       "Name: LivingArea, Length: 360, dtype: object"
      ]
     },
     "execution_count": 210,
     "metadata": {},
     "output_type": "execute_result"
    }
   ],
   "source": [
    "# tiền xử lý cột Livingarea\n",
    "# Loại bỏ kí tự \"sqft\", giữ lại số\n",
    "# với những giá trị thiếu, ví dụ \"-- sqft\" ta thay bằng np.nan\n",
    "for idx,value in House_df['LivingArea'].items():\n",
    "    House_df['LivingArea'][idx] = value.replace(\",\",\".\")\n",
    "for idx,value in House_df['LivingArea'].items():\n",
    "    num = value.split(' ')[0]\n",
    "    if num == '--':\n",
    "        House_df['LivingArea'][idx]= np.nan\n",
    "    else:\n",
    "        House_df['LivingArea'][idx]= num\n",
    "\n",
    "#House_df['LivingArea'] = pd.to_numeric(House_df['LivingArea'],errors = 'coerce')\n",
    "House_df['LivingArea']"
   ]
  },
  {
   "cell_type": "code",
   "execution_count": 211,
   "metadata": {},
   "outputs": [],
   "source": [
    "House_df['LivingArea'] = pd.to_numeric(House_df['LivingArea'],errors = 'coerce')"
   ]
  },
  {
   "cell_type": "code",
   "execution_count": 212,
   "metadata": {},
   "outputs": [
    {
     "name": "stderr",
     "output_type": "stream",
     "text": [
      "<ipython-input-212-0fcfd9b80794>:5: SettingWithCopyWarning: \n",
      "A value is trying to be set on a copy of a slice from a DataFrame\n",
      "\n",
      "See the caveats in the documentation: https://pandas.pydata.org/pandas-docs/stable/user_guide/indexing.html#returning-a-view-versus-a-copy\n",
      "  House_df['Basement'][idx]= np.nan\n"
     ]
    },
    {
     "data": {
      "text/plain": [
       "0                 Finished\n",
       "1       Partially finished\n",
       "2                 Finished\n",
       "3                      NaN\n",
       "4                      NaN\n",
       "              ...         \n",
       "355                    NaN\n",
       "356                    Yes\n",
       "357             Unfinished\n",
       "358                    Yes\n",
       "359                    Yes\n",
       "Name: Basement, Length: 360, dtype: object"
      ]
     },
     "execution_count": 212,
     "metadata": {},
     "output_type": "execute_result"
    }
   ],
   "source": [
    "# tiền xử lý cột Basement\n",
    "# Loại bỏ kí tự \"None\" hay \"\" và thay = np.nan\n",
    "for idx,value in House_df['Basement'].items():\n",
    "    if value == 'None' or value ==\"\":\n",
    "        House_df['Basement'][idx]= np.nan\n",
    "House_df['Basement']"
   ]
  },
  {
   "cell_type": "code",
   "execution_count": 213,
   "metadata": {},
   "outputs": [
    {
     "data": {
      "text/plain": [
       "array([1995., 1945., 2007., 1964., 1976., 1900., 1950., 1959., 1951.,\n",
       "       2002., 1954., 1925., 1965., 1952., 1944., 1942., 1940., 1930.,\n",
       "       1913.,   nan, 1922., 1896., 1927., 1962., 1910., 1918., 1941.,\n",
       "       1981., 1998., 1977., 1938., 1990., 1890., 1943., 2005., 1889.,\n",
       "       1960., 1974., 1901., 2001., 1979., 1978., 2018., 1948., 2020.,\n",
       "       1885., 1967., 1983., 1920., 1961., 1982., 2006., 1957., 1985.,\n",
       "       1947., 1975., 1915., 2014., 1973., 1880., 1800., 1986., 1955.,\n",
       "       1972., 1903., 1921., 1980., 1997., 1935., 1969., 1984., 2004.,\n",
       "       1850., 1946., 1893., 1898., 1931., 1988., 1999., 1911., 2008.,\n",
       "       1958., 1881., 2000., 1993., 1908., 1917., 1970., 1934., 1971.,\n",
       "       2009., 1956., 2016., 1987., 1992., 1904., 1887., 1875., 1914.,\n",
       "       1912., 1869., 2019.])"
      ]
     },
     "execution_count": 213,
     "metadata": {},
     "output_type": "execute_result"
    }
   ],
   "source": [
    "# tiền xử lý cột YearBuild\n",
    "# thay thế những giá trị không phải là số = np.nan\n",
    "House_df['YearBuild'] = pd.to_numeric(House_df['YearBuild'],errors='coerce')\n",
    "House_df['YearBuild'].unique()"
   ]
  },
  {
   "cell_type": "code",
   "execution_count": 214,
   "metadata": {},
   "outputs": [
    {
     "data": {
      "text/plain": [
       "array([ 2.,  0.,  3.,  4., nan,  1.,  6.,  5.,  8.])"
      ]
     },
     "execution_count": 214,
     "metadata": {},
     "output_type": "execute_result"
    }
   ],
   "source": [
    "# tiền xử lý cột YearBuild\n",
    "# thay thế những giá trị không phải là số = np.nan\n",
    "House_df['Garage'] = pd.to_numeric(House_df['Garage'],errors='coerce')\n",
    "House_df['Garage'].unique()"
   ]
  },
  {
   "cell_type": "code",
   "execution_count": 215,
   "metadata": {},
   "outputs": [
    {
     "name": "stderr",
     "output_type": "stream",
     "text": [
      "<ipython-input-215-1f91ff093950>:5: SettingWithCopyWarning: \n",
      "A value is trying to be set on a copy of a slice from a DataFrame\n",
      "\n",
      "See the caveats in the documentation: https://pandas.pydata.org/pandas-docs/stable/user_guide/indexing.html#returning-a-view-versus-a-copy\n",
      "  House_df['Price'][idx]= num\n"
     ]
    },
    {
     "data": {
      "text/plain": [
       "0      300,000\n",
       "1      170,000\n",
       "2      447,900\n",
       "3      299,000\n",
       "4        1,200\n",
       "        ...   \n",
       "355    360,000\n",
       "356    274,933\n",
       "357    345,777\n",
       "358    392,000\n",
       "359    342,533\n",
       "Name: Price, Length: 360, dtype: object"
      ]
     },
     "execution_count": 215,
     "metadata": {},
     "output_type": "execute_result"
    }
   ],
   "source": [
    "# tiền xử lý cột Price\n",
    "# loại bỏ kí tự $\n",
    "for idx,value in House_df['Price'].items():\n",
    "    num = value.split('$')[1]\n",
    "    House_df['Price'][idx]= num\n",
    "House_df['Price']"
   ]
  },
  {
   "cell_type": "code",
   "execution_count": 216,
   "metadata": {},
   "outputs": [
    {
     "name": "stderr",
     "output_type": "stream",
     "text": [
      "<ipython-input-216-68a20b37200f>:5: SettingWithCopyWarning: \n",
      "A value is trying to be set on a copy of a slice from a DataFrame\n",
      "\n",
      "See the caveats in the documentation: https://pandas.pydata.org/pandas-docs/stable/user_guide/indexing.html#returning-a-view-versus-a-copy\n",
      "  House_df['Fireplace'][idx]= np.nan\n"
     ]
    },
    {
     "data": {
      "text/plain": [
       "0      Yes\n",
       "1      NaN\n",
       "2      Yes\n",
       "3      Yes\n",
       "4      NaN\n",
       "      ... \n",
       "355    Yes\n",
       "356    NaN\n",
       "357    NaN\n",
       "358    NaN\n",
       "359    Yes\n",
       "Name: Fireplace, Length: 360, dtype: object"
      ]
     },
     "execution_count": 216,
     "metadata": {},
     "output_type": "execute_result"
    }
   ],
   "source": [
    "# tiền xử lý cột Fireplace\n",
    "# Loại bỏ kí tự \"None\" hay \"\" và thay = np.nan\n",
    "for idx,value in House_df['Fireplace'].items():\n",
    "    if value == 'None' or value ==\"\":\n",
    "        House_df['Fireplace'][idx]= np.nan\n",
    "House_df['Fireplace']"
   ]
  },
  {
   "cell_type": "code",
   "execution_count": 217,
   "metadata": {},
   "outputs": [
    {
     "data": {
      "text/plain": [
       "count      79\n",
       "unique      1\n",
       "top       Yes\n",
       "freq       79\n",
       "Name: Fireplace, dtype: object"
      ]
     },
     "execution_count": 217,
     "metadata": {},
     "output_type": "execute_result"
    }
   ],
   "source": [
    "House_df['Fireplace'].describe()"
   ]
  },
  {
   "cell_type": "code",
   "execution_count": 218,
   "metadata": {},
   "outputs": [
    {
     "name": "stderr",
     "output_type": "stream",
     "text": [
      "<ipython-input-218-7e7da211d616>:9: SettingWithCopyWarning: \n",
      "A value is trying to be set on a copy of a slice from a DataFrame\n",
      "\n",
      "See the caveats in the documentation: https://pandas.pydata.org/pandas-docs/stable/user_guide/indexing.html#returning-a-view-versus-a-copy\n",
      "  House_df['Basement'][idx] = \"No\"\n"
     ]
    },
    {
     "data": {
      "text/plain": [
       "0        No\n",
       "1        No\n",
       "2        No\n",
       "3        No\n",
       "4        No\n",
       "       ... \n",
       "355      No\n",
       "356     Yes\n",
       "357      No\n",
       "358     Yes\n",
       "359     Yes\n",
       "Name: Basement, Length: 360, dtype: object"
      ]
     },
     "execution_count": 218,
     "metadata": {},
     "output_type": "execute_result"
    }
   ],
   "source": [
    "#Lay cot count nhieu nhat\n",
    "col_counts = House_df['Basement'].value_counts()\n",
    "titles = list(col_counts.index)\n",
    "top_titles_ = titles[:max(1, min(1, len(titles)))]\n",
    "top_titles_\n",
    "#cac cot con lai = no\n",
    "for idx,value in House_df['Basement'].items():\n",
    "    if value not in top_titles_:\n",
    "        House_df['Basement'][idx] = \"No\"\n",
    "House_df['Basement']"
   ]
  },
  {
   "cell_type": "code",
   "execution_count": 219,
   "metadata": {},
   "outputs": [
    {
     "data": {
      "text/plain": [
       "array(['No', ' Yes'], dtype=object)"
      ]
     },
     "execution_count": 219,
     "metadata": {},
     "output_type": "execute_result"
    }
   ],
   "source": [
    "House_df['Basement'].unique()"
   ]
  },
  {
   "cell_type": "code",
   "execution_count": 272,
   "metadata": {},
   "outputs": [],
   "source": [
    "House_df.drop(['Heating'], axis=1,inplace =True)"
   ]
  },
  {
   "cell_type": "markdown",
   "metadata": {},
   "source": [
    "---\n",
    "#### Hoàn tất xử lí dữ liệu thô\n"
   ]
  },
  {
   "cell_type": "markdown",
   "metadata": {},
   "source": [
    "---\n",
    "## Tiền xử lí ( tách tập)\n"
   ]
  },
  {
   "cell_type": "code",
   "execution_count": 273,
   "metadata": {},
   "outputs": [
    {
     "ename": "AttributeError",
     "evalue": "'int' object has no attribute 'replace'",
     "output_type": "error",
     "traceback": [
      "\u001b[1;31m---------------------------------------------------------------------------\u001b[0m",
      "\u001b[1;31mAttributeError\u001b[0m                            Traceback (most recent call last)",
      "\u001b[1;32m<ipython-input-273-02c6bd6a3573>\u001b[0m in \u001b[0;36m<module>\u001b[1;34m\u001b[0m\n\u001b[0;32m      3\u001b[0m \u001b[1;31m# trước tiên ta xử lý dấu ','bằng cách bỏ nó đi\u001b[0m\u001b[1;33m\u001b[0m\u001b[1;33m\u001b[0m\u001b[1;33m\u001b[0m\u001b[0m\n\u001b[0;32m      4\u001b[0m \u001b[1;32mfor\u001b[0m \u001b[0midx\u001b[0m\u001b[1;33m,\u001b[0m\u001b[0mvalue\u001b[0m \u001b[1;32min\u001b[0m \u001b[0mHouse_df\u001b[0m\u001b[1;33m[\u001b[0m\u001b[1;34m\"Price\"\u001b[0m\u001b[1;33m]\u001b[0m\u001b[1;33m.\u001b[0m\u001b[0mitems\u001b[0m\u001b[1;33m(\u001b[0m\u001b[1;33m)\u001b[0m\u001b[1;33m:\u001b[0m\u001b[1;33m\u001b[0m\u001b[1;33m\u001b[0m\u001b[0m\n\u001b[1;32m----> 5\u001b[1;33m     \u001b[0mHouse_df\u001b[0m\u001b[1;33m[\u001b[0m\u001b[1;34m\"Price\"\u001b[0m\u001b[1;33m]\u001b[0m\u001b[1;33m[\u001b[0m\u001b[0midx\u001b[0m\u001b[1;33m]\u001b[0m \u001b[1;33m=\u001b[0m \u001b[0mvalue\u001b[0m\u001b[1;33m.\u001b[0m\u001b[0mreplace\u001b[0m\u001b[1;33m(\u001b[0m\u001b[1;34m\",\"\u001b[0m\u001b[1;33m,\u001b[0m \u001b[1;34m\"\"\u001b[0m\u001b[1;33m)\u001b[0m\u001b[1;33m\u001b[0m\u001b[1;33m\u001b[0m\u001b[0m\n\u001b[0m\u001b[0;32m      6\u001b[0m \u001b[0mHouse_df\u001b[0m\u001b[1;33m[\u001b[0m\u001b[1;34m\"Price\"\u001b[0m\u001b[1;33m]\u001b[0m \u001b[1;33m=\u001b[0m \u001b[0mpd\u001b[0m\u001b[1;33m.\u001b[0m\u001b[0mto_numeric\u001b[0m\u001b[1;33m(\u001b[0m\u001b[0mHouse_df\u001b[0m\u001b[1;33m[\u001b[0m\u001b[1;34m\"Price\"\u001b[0m\u001b[1;33m]\u001b[0m\u001b[1;33m)\u001b[0m\u001b[1;33m\u001b[0m\u001b[1;33m\u001b[0m\u001b[0m\n\u001b[0;32m      7\u001b[0m \u001b[0mHouse_df\u001b[0m\u001b[1;33m[\u001b[0m\u001b[1;34m\"Price\"\u001b[0m\u001b[1;33m]\u001b[0m\u001b[1;33m.\u001b[0m\u001b[0mdtype\u001b[0m\u001b[1;33m\u001b[0m\u001b[1;33m\u001b[0m\u001b[0m\n",
      "\u001b[1;31mAttributeError\u001b[0m: 'int' object has no attribute 'replace'"
     ]
    }
   ],
   "source": [
    "# vì kiểu dữ liệu của output vẫn chưa phải là số\n",
    "# ta chuyển cột Price về kiểu số\n",
    "# trước tiên ta xử lý dấu ','bằng cách bỏ nó đi\n",
    "for idx,value in House_df[\"Price\"].items():\n",
    "    House_df[\"Price\"][idx] = value.replace(\",\", \"\")\n",
    "House_df[\"Price\"] = pd.to_numeric(House_df[\"Price\"])\n",
    "House_df[\"Price\"].dtype"
   ]
  },
  {
   "cell_type": "code",
   "execution_count": 353,
   "metadata": {},
   "outputs": [],
   "source": [
    "# Tách X và y\n",
    "y = House_df[\"Price\"] # sr là viết tắt của series\n",
    "X = House_df.drop(\"Price\", axis=1)\n",
    "X_train_df, X_test, y_train_sr, y_test  = train_test_split(X, y, test_size=0.2, random_state=0)\n",
    "X_train, X_val, y_train, y_val = train_test_split(X_train_df, y_train_sr, test_size=0.25, random_state=0)"
   ]
  },
  {
   "cell_type": "code",
   "execution_count": 312,
   "metadata": {},
   "outputs": [],
   "source": [
    "# Tách tập huấn luyện và tập validation theo tỉ lệ 70%:30%\n",
    "train_X_df, val_X_df, train_y_sr, val_y_sr = train_test_split(X_df, y_sr, test_size=0.33, random_state=42)"
   ]
  },
  {
   "cell_type": "code",
   "execution_count": 313,
   "metadata": {},
   "outputs": [
    {
     "data": {
      "text/plain": [
       "(241, 8)"
      ]
     },
     "execution_count": 313,
     "metadata": {},
     "output_type": "execute_result"
    }
   ],
   "source": [
    "train_X_df.shape"
   ]
  },
  {
   "cell_type": "code",
   "execution_count": 314,
   "metadata": {},
   "outputs": [
    {
     "data": {
      "text/plain": [
       "(241,)"
      ]
     },
     "execution_count": 314,
     "metadata": {},
     "output_type": "execute_result"
    }
   ],
   "source": [
    "train_y_sr.shape"
   ]
  },
  {
   "cell_type": "code",
   "execution_count": 315,
   "metadata": {},
   "outputs": [
    {
     "data": {
      "text/plain": [
       "(119, 8)"
      ]
     },
     "execution_count": 315,
     "metadata": {},
     "output_type": "execute_result"
    }
   ],
   "source": [
    "val_X_df.shape"
   ]
  },
  {
   "cell_type": "code",
   "execution_count": 316,
   "metadata": {},
   "outputs": [
    {
     "data": {
      "text/plain": [
       "(119,)"
      ]
     },
     "execution_count": 316,
     "metadata": {},
     "output_type": "execute_result"
    }
   ],
   "source": [
    "val_y_sr.shape"
   ]
  },
  {
   "cell_type": "code",
   "execution_count": 317,
   "metadata": {},
   "outputs": [
    {
     "data": {
      "text/plain": [
       "Int64Index([278, 118, 31, 36, 153], dtype='int64')"
      ]
     },
     "execution_count": 317,
     "metadata": {},
     "output_type": "execute_result"
    }
   ],
   "source": [
    "train_X_df.head().index"
   ]
  },
  {
   "cell_type": "markdown",
   "metadata": {},
   "source": [
    "## KHÁM PHÁ DỮ LIỆU (TẬP HUẤN LUYỆN)"
   ]
  },
  {
   "cell_type": "code",
   "execution_count": 318,
   "metadata": {},
   "outputs": [
    {
     "data": {
      "text/plain": [
       "Address        object\n",
       "Bedrooms      float64\n",
       "Bathrooms     float64\n",
       "LivingArea    float64\n",
       "Basement       object\n",
       "YearBuild     float64\n",
       "Fireplace      object\n",
       "Garage        float64\n",
       "dtype: object"
      ]
     },
     "execution_count": 318,
     "metadata": {},
     "output_type": "execute_result"
    }
   ],
   "source": [
    "train_X_df.dtypes"
   ]
  },
  {
   "cell_type": "code",
   "execution_count": 319,
   "metadata": {},
   "outputs": [
    {
     "data": {
      "text/plain": [
       "Bedrooms      float64\n",
       "Bathrooms     float64\n",
       "LivingArea    float64\n",
       "YearBuild     float64\n",
       "Garage        float64\n",
       "dtype: object"
      ]
     },
     "execution_count": 319,
     "metadata": {},
     "output_type": "execute_result"
    }
   ],
   "source": [
    "train_X_df.dtypes[train_X_df.dtypes != object]"
   ]
  },
  {
   "cell_type": "code",
   "execution_count": 320,
   "metadata": {},
   "outputs": [
    {
     "data": {
      "text/plain": [
       "(241, 8)"
      ]
     },
     "execution_count": 320,
     "metadata": {},
     "output_type": "execute_result"
    }
   ],
   "source": [
    "train_X_df.shape"
   ]
  },
  {
   "cell_type": "code",
   "execution_count": 321,
   "metadata": {},
   "outputs": [],
   "source": [
    "#drop:fireplace,"
   ]
  },
  {
   "cell_type": "markdown",
   "metadata": {},
   "source": [
    "## TIỀN XỬ LÝ TẬP HUẤN LUYỆN"
   ]
  },
  {
   "cell_type": "code",
   "execution_count": 322,
   "metadata": {},
   "outputs": [],
   "source": [
    "class ColAdderDropper(BaseEstimator, TransformerMixin):\n",
    "    def __init__(self,num_top_titles=1):\n",
    "        self.num_top_titles = num_top_titles\n",
    "    def fit(self,X_df,y = None):\n",
    "        temp = pd.DataFrame()\n",
    "        a = []\n",
    "        for address in X_df['Address']:\n",
    "            addr = address.split(',')[2]\n",
    "            a.append(addr)\n",
    "        temp['title'] = a\n",
    "        self.title_ = a\n",
    "        self.title_counts = temp['title'].value_counts()\n",
    "        titles = list(self.title_counts.index)\n",
    "        self.top_title = titles[:max(1,min(self.num_top_titles,len(titles)))]\n",
    "        return self\n",
    "    def transform(self,X_df,y = None):\n",
    "        col_transform = X_df.copy()\n",
    "        a = []\n",
    "        for address in X_df['Address']:\n",
    "            addr = address.split(',')[2]\n",
    "            a.append(addr)\n",
    "        col_transform['Title'] = a\n",
    "        col_transform.loc[~col_transform['Title'].isin(self.top_title), 'Title'] = 'Others'\n",
    "        #xoa cot fireplace va Address thay bang Title\n",
    "        col_transform = col_transform.drop(['Address','Fireplace'],axis = 1)\n",
    "        return col_transform\n",
    "        \n",
    "            "
   ]
  },
  {
   "cell_type": "code",
   "execution_count": 323,
   "metadata": {},
   "outputs": [
    {
     "name": "stdout",
     "output_type": "stream",
     "text": [
      " NH 03103    71\n",
      " NH 03104    66\n",
      " NH 03102    48\n",
      " NH 03109    25\n",
      " CT 06040    16\n",
      " CT 06042     9\n",
      " NH 03101     6\n",
      "Name: title, dtype: int64\n",
      "[' NH 03103', ' NH 03104', ' NH 03102', ' NH 03109']\n"
     ]
    }
   ],
   "source": [
    "col_adderdropper = ColAdderDropper(num_top_titles = 4)\n",
    "col_adderdropper.fit(train_X_df)\n",
    "print(col_adderdropper.title_counts)\n",
    "print(col_adderdropper.top_title)\n"
   ]
  },
  {
   "cell_type": "code",
   "execution_count": 324,
   "metadata": {},
   "outputs": [
    {
     "name": "stdout",
     "output_type": "stream",
     "text": [
      "Index(['Bedrooms', 'Bathrooms', 'LivingArea', 'Basement', 'YearBuild',\n",
      "       'Garage', 'Title'],\n",
      "      dtype='object')\n",
      " NH 03103    71\n",
      " NH 03104    66\n",
      " NH 03102    48\n",
      "Others       31\n",
      " NH 03109    25\n",
      "Name: Title, dtype: int64\n"
     ]
    },
    {
     "data": {
      "text/html": [
       "<div>\n",
       "<style scoped>\n",
       "    .dataframe tbody tr th:only-of-type {\n",
       "        vertical-align: middle;\n",
       "    }\n",
       "\n",
       "    .dataframe tbody tr th {\n",
       "        vertical-align: top;\n",
       "    }\n",
       "\n",
       "    .dataframe thead th {\n",
       "        text-align: right;\n",
       "    }\n",
       "</style>\n",
       "<table border=\"1\" class=\"dataframe\">\n",
       "  <thead>\n",
       "    <tr style=\"text-align: right;\">\n",
       "      <th></th>\n",
       "      <th>Bedrooms</th>\n",
       "      <th>Bathrooms</th>\n",
       "      <th>LivingArea</th>\n",
       "      <th>Basement</th>\n",
       "      <th>YearBuild</th>\n",
       "      <th>Garage</th>\n",
       "      <th>Title</th>\n",
       "    </tr>\n",
       "  </thead>\n",
       "  <tbody>\n",
       "    <tr>\n",
       "      <th>278</th>\n",
       "      <td>3.0</td>\n",
       "      <td>2.0</td>\n",
       "      <td>2.114</td>\n",
       "      <td>Yes</td>\n",
       "      <td>1960.0</td>\n",
       "      <td>1.0</td>\n",
       "      <td>NH 03102</td>\n",
       "    </tr>\n",
       "    <tr>\n",
       "      <th>118</th>\n",
       "      <td>7.0</td>\n",
       "      <td>NaN</td>\n",
       "      <td>2.327</td>\n",
       "      <td>Yes</td>\n",
       "      <td>1920.0</td>\n",
       "      <td>0.0</td>\n",
       "      <td>NH 03102</td>\n",
       "    </tr>\n",
       "    <tr>\n",
       "      <th>31</th>\n",
       "      <td>4.0</td>\n",
       "      <td>3.0</td>\n",
       "      <td>1.901</td>\n",
       "      <td>No</td>\n",
       "      <td>1998.0</td>\n",
       "      <td>2.0</td>\n",
       "      <td>Others</td>\n",
       "    </tr>\n",
       "    <tr>\n",
       "      <th>36</th>\n",
       "      <td>3.0</td>\n",
       "      <td>3.0</td>\n",
       "      <td>1.744</td>\n",
       "      <td>No</td>\n",
       "      <td>1990.0</td>\n",
       "      <td>1.0</td>\n",
       "      <td>Others</td>\n",
       "    </tr>\n",
       "    <tr>\n",
       "      <th>153</th>\n",
       "      <td>NaN</td>\n",
       "      <td>NaN</td>\n",
       "      <td>NaN</td>\n",
       "      <td>No</td>\n",
       "      <td>NaN</td>\n",
       "      <td>NaN</td>\n",
       "      <td>NH 03104</td>\n",
       "    </tr>\n",
       "  </tbody>\n",
       "</table>\n",
       "</div>"
      ],
      "text/plain": [
       "     Bedrooms  Bathrooms  LivingArea Basement  YearBuild  Garage      Title\n",
       "278       3.0        2.0       2.114      Yes     1960.0     1.0   NH 03102\n",
       "118       7.0        NaN       2.327      Yes     1920.0     0.0   NH 03102\n",
       "31        4.0        3.0       1.901       No     1998.0     2.0     Others\n",
       "36        3.0        3.0       1.744       No     1990.0     1.0     Others\n",
       "153       NaN        NaN         NaN       No        NaN     NaN   NH 03104"
      ]
     },
     "execution_count": 324,
     "metadata": {},
     "output_type": "execute_result"
    }
   ],
   "source": [
    "train_X_df_transform = col_adderdropper.transform(train_X_df)\n",
    "print(train_X_df_transform.columns)\n",
    "print(train_X_df_transform['Title'].value_counts())\n",
    "train_X_df_transform.head()"
   ]
  },
  {
   "cell_type": "code",
   "execution_count": 325,
   "metadata": {},
   "outputs": [
    {
     "data": {
      "text/plain": [
       "14"
      ]
     },
     "execution_count": 325,
     "metadata": {},
     "output_type": "execute_result"
    }
   ],
   "source": [
    "train_X_df_transform['Bedrooms'].isna().sum()"
   ]
  },
  {
   "cell_type": "code",
   "execution_count": 326,
   "metadata": {},
   "outputs": [
    {
     "data": {
      "text/plain": [
       "36"
      ]
     },
     "execution_count": 326,
     "metadata": {},
     "output_type": "execute_result"
    }
   ],
   "source": [
    "train_X_df_transform['Bathrooms'].isna().sum()"
   ]
  },
  {
   "cell_type": "code",
   "execution_count": 327,
   "metadata": {},
   "outputs": [
    {
     "data": {
      "text/plain": [
       "3"
      ]
     },
     "execution_count": 327,
     "metadata": {},
     "output_type": "execute_result"
    }
   ],
   "source": [
    "train_X_df_transform['LivingArea'].isna().sum()"
   ]
  },
  {
   "cell_type": "code",
   "execution_count": 328,
   "metadata": {},
   "outputs": [
    {
     "data": {
      "text/plain": [
       "10"
      ]
     },
     "execution_count": 328,
     "metadata": {},
     "output_type": "execute_result"
    }
   ],
   "source": [
    "train_X_df_transform['YearBuild'].isna().sum()"
   ]
  },
  {
   "cell_type": "code",
   "execution_count": 329,
   "metadata": {},
   "outputs": [
    {
     "data": {
      "text/plain": [
       "5"
      ]
     },
     "execution_count": 329,
     "metadata": {},
     "output_type": "execute_result"
    }
   ],
   "source": [
    "train_X_df_transform['Garage'].isna().sum()"
   ]
  },
  {
   "cell_type": "code",
   "execution_count": 330,
   "metadata": {},
   "outputs": [],
   "source": [
    "#Make_pipeline"
   ]
  },
  {
   "cell_type": "code",
   "execution_count": 331,
   "metadata": {},
   "outputs": [
    {
     "data": {
      "text/plain": [
       "array([[-0.22914083,  0.12415272, -0.3474921 , ..., -0.61411958,\n",
       "        -0.34020691, -0.38421224],\n",
       "       [ 1.98426211,  0.        , -0.34665279, ..., -0.61411958,\n",
       "        -0.34020691, -0.38421224],\n",
       "       [ 0.3242099 ,  1.38100737, -0.3483314 , ..., -0.61411958,\n",
       "        -0.34020691,  2.6027281 ],\n",
       "       ...,\n",
       "       [-0.22914083,  0.12415272, -0.34910766, ..., -0.61411958,\n",
       "        -0.34020691, -0.38421224],\n",
       "       [-0.78249157, -1.13270194, -0.35114878, ..., -0.61411958,\n",
       "        -0.34020691, -0.38421224],\n",
       "       [-0.78249157,  0.12415272, -0.34996272, ..., -0.61411958,\n",
       "        -0.34020691, -0.38421224]])"
      ]
     },
     "execution_count": 331,
     "metadata": {},
     "output_type": "execute_result"
    }
   ],
   "source": [
    "nume_cols = ['Bedrooms','Bathrooms','LivingArea','YearBuild','Garage']\n",
    "unorder_cate_cols = ['Basement','Title']\n",
    "\n",
    "\n",
    "\n",
    "\n",
    "# YOUR CODE HERE\n",
    "class Handle(BaseEstimator, TransformerMixin):\n",
    "    def __init__(self):\n",
    "        self = self\n",
    "    def fit(self, X_df, y=None):\n",
    "        self.imp_mean = SimpleImputer(missing_values=np.nan, strategy='mean')\n",
    "        self.imp_mean = self.imp_mean.fit(X_df[nume_cols])\n",
    "        self.imp_mode = SimpleImputer(missing_values=np.nan, strategy='most_frequent')\n",
    "        self.imp_mode = self.imp_mode.fit(X_df[unorder_cate_cols])\n",
    "        return self\n",
    "    def transform(self, X_df, y=None):\n",
    "        result_df = X_df.copy()\n",
    "        result_df[nume_cols] = self.imp_mean.transform(result_df[nume_cols])\n",
    "        result_df[unorder_cate_cols] = self.imp_mode.transform(result_df[unorder_cate_cols])\n",
    "        return result_df\n",
    "\n",
    "class OneHot(BaseEstimator, TransformerMixin):\n",
    "    def __init__(self):\n",
    "        self = self\n",
    "    def fit(self, X_df, y=None):\n",
    "        self.enc = OneHotEncoder(handle_unknown='ignore')\n",
    "        self.enc.fit(X_df[unorder_cate_cols])\n",
    "        return self\n",
    "    def transform(self, X_df, y=None):\n",
    "        result_df = X_df.copy()\n",
    "        enc_df = pd.DataFrame(self.enc.transform(result_df[unorder_cate_cols]).toarray(),index=result_df.index)\n",
    "        result_df.drop(unorder_cate_cols,axis =1,inplace=True)\n",
    "        result_df = result_df.join(enc_df)\n",
    "        return result_df\n",
    "    \n",
    "preprocess_pipeline = make_pipeline(ColAdderDropper(num_top_titles=4),Handle(),OneHot()\n",
    "                                   ,StandardScaler())\n",
    "preprocessed_train_X = preprocess_pipeline.fit_transform(train_X_df)\n",
    "preprocessed_train_X\n",
    "\n",
    "    \n",
    "\n",
    "    \n"
   ]
  },
  {
   "cell_type": "markdown",
   "metadata": {},
   "source": [
    "## TIỀN XỬ LÝ TẬP VALIDATION"
   ]
  },
  {
   "cell_type": "code",
   "execution_count": 332,
   "metadata": {},
   "outputs": [
    {
     "data": {
      "text/plain": [
       "array([[-0.22914083,  2.63786202, -0.34217256, ..., -0.61411958,\n",
       "         2.93938769, -0.38421224],\n",
       "       [-0.22914083,  1.38100737, -0.34021419, ..., -0.61411958,\n",
       "        -0.34020691, -0.38421224],\n",
       "       [-0.78249157, -1.13270194,  2.07146078, ..., -0.61411958,\n",
       "        -0.34020691, -0.38421224],\n",
       "       ...,\n",
       "       [-0.78249157, -1.13270194, -0.35182653, ..., -0.61411958,\n",
       "        -0.34020691,  2.6027281 ],\n",
       "       [ 0.87756064,  1.38100737, -0.34539975, ..., -0.61411958,\n",
       "         2.93938769, -0.38421224],\n",
       "       [ 0.3242099 ,  0.12415272, -0.34281091, ...,  1.62834737,\n",
       "        -0.34020691, -0.38421224]])"
      ]
     },
     "execution_count": 332,
     "metadata": {},
     "output_type": "execute_result"
    }
   ],
   "source": [
    "preprocessed_val_X = preprocess_pipeline.transform(val_X_df)\n",
    "preprocessed_val_X"
   ]
  },
  {
   "cell_type": "markdown",
   "metadata": {},
   "source": [
    "## TIỀN XỬ LÝ VÀ MÔ HÌNH HÓA"
   ]
  },
  {
   "cell_type": "code",
   "execution_count": 333,
   "metadata": {},
   "outputs": [
    {
     "name": "stderr",
     "output_type": "stream",
     "text": [
      "C:\\Users\\Admintrastor\\anaconda3\\lib\\site-packages\\sklearn\\neural_network\\_multilayer_perceptron.py:471: ConvergenceWarning: lbfgs failed to converge (status=1):\n",
      "STOP: TOTAL NO. of ITERATIONS REACHED LIMIT.\n",
      "\n",
      "Increase the number of iterations (max_iter) or scale the data as shown in:\n",
      "    https://scikit-learn.org/stable/modules/preprocessing.html\n",
      "  self.n_iter_ = _check_optimize_result(\"lbfgs\", opt_res, self.max_iter)\n",
      "C:\\Users\\Admintrastor\\anaconda3\\lib\\site-packages\\sklearn\\neural_network\\_multilayer_perceptron.py:471: ConvergenceWarning: lbfgs failed to converge (status=1):\n",
      "STOP: TOTAL NO. of ITERATIONS REACHED LIMIT.\n",
      "\n",
      "Increase the number of iterations (max_iter) or scale the data as shown in:\n",
      "    https://scikit-learn.org/stable/modules/preprocessing.html\n",
      "  self.n_iter_ = _check_optimize_result(\"lbfgs\", opt_res, self.max_iter)\n",
      "C:\\Users\\Admintrastor\\anaconda3\\lib\\site-packages\\sklearn\\neural_network\\_multilayer_perceptron.py:471: ConvergenceWarning: lbfgs failed to converge (status=1):\n",
      "STOP: TOTAL NO. of ITERATIONS REACHED LIMIT.\n",
      "\n",
      "Increase the number of iterations (max_iter) or scale the data as shown in:\n",
      "    https://scikit-learn.org/stable/modules/preprocessing.html\n",
      "  self.n_iter_ = _check_optimize_result(\"lbfgs\", opt_res, self.max_iter)\n",
      "C:\\Users\\Admintrastor\\anaconda3\\lib\\site-packages\\sklearn\\neural_network\\_multilayer_perceptron.py:471: ConvergenceWarning: lbfgs failed to converge (status=1):\n",
      "STOP: TOTAL NO. of ITERATIONS REACHED LIMIT.\n",
      "\n",
      "Increase the number of iterations (max_iter) or scale the data as shown in:\n",
      "    https://scikit-learn.org/stable/modules/preprocessing.html\n",
      "  self.n_iter_ = _check_optimize_result(\"lbfgs\", opt_res, self.max_iter)\n",
      "C:\\Users\\Admintrastor\\anaconda3\\lib\\site-packages\\sklearn\\neural_network\\_multilayer_perceptron.py:471: ConvergenceWarning: lbfgs failed to converge (status=1):\n",
      "STOP: TOTAL NO. of ITERATIONS REACHED LIMIT.\n",
      "\n",
      "Increase the number of iterations (max_iter) or scale the data as shown in:\n",
      "    https://scikit-learn.org/stable/modules/preprocessing.html\n",
      "  self.n_iter_ = _check_optimize_result(\"lbfgs\", opt_res, self.max_iter)\n",
      "C:\\Users\\Admintrastor\\anaconda3\\lib\\site-packages\\sklearn\\neural_network\\_multilayer_perceptron.py:471: ConvergenceWarning: lbfgs failed to converge (status=1):\n",
      "STOP: TOTAL NO. of ITERATIONS REACHED LIMIT.\n",
      "\n",
      "Increase the number of iterations (max_iter) or scale the data as shown in:\n",
      "    https://scikit-learn.org/stable/modules/preprocessing.html\n",
      "  self.n_iter_ = _check_optimize_result(\"lbfgs\", opt_res, self.max_iter)\n",
      "C:\\Users\\Admintrastor\\anaconda3\\lib\\site-packages\\sklearn\\neural_network\\_multilayer_perceptron.py:471: ConvergenceWarning: lbfgs failed to converge (status=1):\n",
      "STOP: TOTAL NO. of ITERATIONS REACHED LIMIT.\n",
      "\n",
      "Increase the number of iterations (max_iter) or scale the data as shown in:\n",
      "    https://scikit-learn.org/stable/modules/preprocessing.html\n",
      "  self.n_iter_ = _check_optimize_result(\"lbfgs\", opt_res, self.max_iter)\n",
      "C:\\Users\\Admintrastor\\anaconda3\\lib\\site-packages\\sklearn\\neural_network\\_multilayer_perceptron.py:471: ConvergenceWarning: lbfgs failed to converge (status=1):\n",
      "STOP: TOTAL NO. of ITERATIONS REACHED LIMIT.\n",
      "\n",
      "Increase the number of iterations (max_iter) or scale the data as shown in:\n",
      "    https://scikit-learn.org/stable/modules/preprocessing.html\n",
      "  self.n_iter_ = _check_optimize_result(\"lbfgs\", opt_res, self.max_iter)\n",
      "C:\\Users\\Admintrastor\\anaconda3\\lib\\site-packages\\sklearn\\neural_network\\_multilayer_perceptron.py:471: ConvergenceWarning: lbfgs failed to converge (status=1):\n",
      "STOP: TOTAL NO. of ITERATIONS REACHED LIMIT.\n",
      "\n",
      "Increase the number of iterations (max_iter) or scale the data as shown in:\n",
      "    https://scikit-learn.org/stable/modules/preprocessing.html\n",
      "  self.n_iter_ = _check_optimize_result(\"lbfgs\", opt_res, self.max_iter)\n",
      "C:\\Users\\Admintrastor\\anaconda3\\lib\\site-packages\\sklearn\\neural_network\\_multilayer_perceptron.py:471: ConvergenceWarning: lbfgs failed to converge (status=1):\n",
      "STOP: TOTAL NO. of ITERATIONS REACHED LIMIT.\n",
      "\n",
      "Increase the number of iterations (max_iter) or scale the data as shown in:\n",
      "    https://scikit-learn.org/stable/modules/preprocessing.html\n",
      "  self.n_iter_ = _check_optimize_result(\"lbfgs\", opt_res, self.max_iter)\n",
      "C:\\Users\\Admintrastor\\anaconda3\\lib\\site-packages\\sklearn\\neural_network\\_multilayer_perceptron.py:471: ConvergenceWarning: lbfgs failed to converge (status=1):\n",
      "STOP: TOTAL NO. of ITERATIONS REACHED LIMIT.\n",
      "\n",
      "Increase the number of iterations (max_iter) or scale the data as shown in:\n",
      "    https://scikit-learn.org/stable/modules/preprocessing.html\n",
      "  self.n_iter_ = _check_optimize_result(\"lbfgs\", opt_res, self.max_iter)\n",
      "C:\\Users\\Admintrastor\\anaconda3\\lib\\site-packages\\sklearn\\neural_network\\_multilayer_perceptron.py:471: ConvergenceWarning: lbfgs failed to converge (status=1):\n",
      "STOP: TOTAL NO. of ITERATIONS REACHED LIMIT.\n",
      "\n",
      "Increase the number of iterations (max_iter) or scale the data as shown in:\n",
      "    https://scikit-learn.org/stable/modules/preprocessing.html\n",
      "  self.n_iter_ = _check_optimize_result(\"lbfgs\", opt_res, self.max_iter)\n",
      "C:\\Users\\Admintrastor\\anaconda3\\lib\\site-packages\\sklearn\\neural_network\\_multilayer_perceptron.py:471: ConvergenceWarning: lbfgs failed to converge (status=1):\n",
      "STOP: TOTAL NO. of ITERATIONS REACHED LIMIT.\n",
      "\n",
      "Increase the number of iterations (max_iter) or scale the data as shown in:\n",
      "    https://scikit-learn.org/stable/modules/preprocessing.html\n",
      "  self.n_iter_ = _check_optimize_result(\"lbfgs\", opt_res, self.max_iter)\n",
      "C:\\Users\\Admintrastor\\anaconda3\\lib\\site-packages\\sklearn\\neural_network\\_multilayer_perceptron.py:471: ConvergenceWarning: lbfgs failed to converge (status=1):\n",
      "STOP: TOTAL NO. of ITERATIONS REACHED LIMIT.\n",
      "\n",
      "Increase the number of iterations (max_iter) or scale the data as shown in:\n",
      "    https://scikit-learn.org/stable/modules/preprocessing.html\n",
      "  self.n_iter_ = _check_optimize_result(\"lbfgs\", opt_res, self.max_iter)\n",
      "C:\\Users\\Admintrastor\\anaconda3\\lib\\site-packages\\sklearn\\neural_network\\_multilayer_perceptron.py:471: ConvergenceWarning: lbfgs failed to converge (status=1):\n",
      "STOP: TOTAL NO. of ITERATIONS REACHED LIMIT.\n",
      "\n",
      "Increase the number of iterations (max_iter) or scale the data as shown in:\n",
      "    https://scikit-learn.org/stable/modules/preprocessing.html\n",
      "  self.n_iter_ = _check_optimize_result(\"lbfgs\", opt_res, self.max_iter)\n",
      "C:\\Users\\Admintrastor\\anaconda3\\lib\\site-packages\\sklearn\\neural_network\\_multilayer_perceptron.py:471: ConvergenceWarning: lbfgs failed to converge (status=1):\n",
      "STOP: TOTAL NO. of ITERATIONS REACHED LIMIT.\n",
      "\n",
      "Increase the number of iterations (max_iter) or scale the data as shown in:\n",
      "    https://scikit-learn.org/stable/modules/preprocessing.html\n",
      "  self.n_iter_ = _check_optimize_result(\"lbfgs\", opt_res, self.max_iter)\n",
      "C:\\Users\\Admintrastor\\anaconda3\\lib\\site-packages\\sklearn\\neural_network\\_multilayer_perceptron.py:471: ConvergenceWarning: lbfgs failed to converge (status=1):\n",
      "STOP: TOTAL NO. of ITERATIONS REACHED LIMIT.\n",
      "\n",
      "Increase the number of iterations (max_iter) or scale the data as shown in:\n",
      "    https://scikit-learn.org/stable/modules/preprocessing.html\n",
      "  self.n_iter_ = _check_optimize_result(\"lbfgs\", opt_res, self.max_iter)\n",
      "C:\\Users\\Admintrastor\\anaconda3\\lib\\site-packages\\sklearn\\neural_network\\_multilayer_perceptron.py:471: ConvergenceWarning: lbfgs failed to converge (status=1):\n",
      "STOP: TOTAL NO. of ITERATIONS REACHED LIMIT.\n",
      "\n",
      "Increase the number of iterations (max_iter) or scale the data as shown in:\n",
      "    https://scikit-learn.org/stable/modules/preprocessing.html\n",
      "  self.n_iter_ = _check_optimize_result(\"lbfgs\", opt_res, self.max_iter)\n",
      "C:\\Users\\Admintrastor\\anaconda3\\lib\\site-packages\\sklearn\\neural_network\\_multilayer_perceptron.py:471: ConvergenceWarning: lbfgs failed to converge (status=1):\n",
      "STOP: TOTAL NO. of ITERATIONS REACHED LIMIT.\n",
      "\n",
      "Increase the number of iterations (max_iter) or scale the data as shown in:\n",
      "    https://scikit-learn.org/stable/modules/preprocessing.html\n",
      "  self.n_iter_ = _check_optimize_result(\"lbfgs\", opt_res, self.max_iter)\n",
      "C:\\Users\\Admintrastor\\anaconda3\\lib\\site-packages\\sklearn\\neural_network\\_multilayer_perceptron.py:471: ConvergenceWarning: lbfgs failed to converge (status=1):\n",
      "STOP: TOTAL NO. of ITERATIONS REACHED LIMIT.\n",
      "\n",
      "Increase the number of iterations (max_iter) or scale the data as shown in:\n",
      "    https://scikit-learn.org/stable/modules/preprocessing.html\n",
      "  self.n_iter_ = _check_optimize_result(\"lbfgs\", opt_res, self.max_iter)\n"
     ]
    },
    {
     "name": "stderr",
     "output_type": "stream",
     "text": [
      "C:\\Users\\Admintrastor\\anaconda3\\lib\\site-packages\\sklearn\\neural_network\\_multilayer_perceptron.py:471: ConvergenceWarning: lbfgs failed to converge (status=1):\n",
      "STOP: TOTAL NO. of ITERATIONS REACHED LIMIT.\n",
      "\n",
      "Increase the number of iterations (max_iter) or scale the data as shown in:\n",
      "    https://scikit-learn.org/stable/modules/preprocessing.html\n",
      "  self.n_iter_ = _check_optimize_result(\"lbfgs\", opt_res, self.max_iter)\n",
      "C:\\Users\\Admintrastor\\anaconda3\\lib\\site-packages\\sklearn\\neural_network\\_multilayer_perceptron.py:471: ConvergenceWarning: lbfgs failed to converge (status=1):\n",
      "STOP: TOTAL NO. of ITERATIONS REACHED LIMIT.\n",
      "\n",
      "Increase the number of iterations (max_iter) or scale the data as shown in:\n",
      "    https://scikit-learn.org/stable/modules/preprocessing.html\n",
      "  self.n_iter_ = _check_optimize_result(\"lbfgs\", opt_res, self.max_iter)\n",
      "C:\\Users\\Admintrastor\\anaconda3\\lib\\site-packages\\sklearn\\neural_network\\_multilayer_perceptron.py:471: ConvergenceWarning: lbfgs failed to converge (status=1):\n",
      "STOP: TOTAL NO. of ITERATIONS REACHED LIMIT.\n",
      "\n",
      "Increase the number of iterations (max_iter) or scale the data as shown in:\n",
      "    https://scikit-learn.org/stable/modules/preprocessing.html\n",
      "  self.n_iter_ = _check_optimize_result(\"lbfgs\", opt_res, self.max_iter)\n",
      "C:\\Users\\Admintrastor\\anaconda3\\lib\\site-packages\\sklearn\\neural_network\\_multilayer_perceptron.py:471: ConvergenceWarning: lbfgs failed to converge (status=1):\n",
      "STOP: TOTAL NO. of ITERATIONS REACHED LIMIT.\n",
      "\n",
      "Increase the number of iterations (max_iter) or scale the data as shown in:\n",
      "    https://scikit-learn.org/stable/modules/preprocessing.html\n",
      "  self.n_iter_ = _check_optimize_result(\"lbfgs\", opt_res, self.max_iter)\n",
      "C:\\Users\\Admintrastor\\anaconda3\\lib\\site-packages\\sklearn\\neural_network\\_multilayer_perceptron.py:471: ConvergenceWarning: lbfgs failed to converge (status=1):\n",
      "STOP: TOTAL NO. of ITERATIONS REACHED LIMIT.\n",
      "\n",
      "Increase the number of iterations (max_iter) or scale the data as shown in:\n",
      "    https://scikit-learn.org/stable/modules/preprocessing.html\n",
      "  self.n_iter_ = _check_optimize_result(\"lbfgs\", opt_res, self.max_iter)\n"
     ]
    },
    {
     "data": {
      "text/plain": [
       "'Finish!'"
      ]
     },
     "execution_count": 333,
     "metadata": {},
     "output_type": "execute_result"
    }
   ],
   "source": [
    "#Tao full pipeline\n",
    "nume_cols = ['Bedrooms','Bathrooms','LivingArea','YearBuild','Garage']\n",
    "unorder_cate_cols = ['Basement','Title']\n",
    "\n",
    "#full_pipeline = make_pipeline(ColAdderDropper(),Handle(),OneHot()\n",
    "                                   #,StandardScaler(),\n",
    "                              #MLPClassifier(hidden_layer_sizes=(20), activation='tanh', solver='lbfgs', random_state=0, max_iter=2500))\n",
    "neural_net_model = MLPRegressor(hidden_layer_sizes=(50), activation='tanh', solver='lbfgs', random_state=0, max_iter=5000)\n",
    "full_pipeline = make_pipeline(preprocess_pipeline,neural_net_model)\n",
    "\n",
    "\n",
    "\n",
    "# Thử nghiệm với các giá trị khác nhau của các siêu tham số\n",
    "# và chọn ra các giá trị tốt nhất\n",
    "\n",
    "\n",
    "train_errs = []\n",
    "val_errs = []\n",
    "alphas = [0.1, 1, 10, 100, 1000]\n",
    "num_top_titles_s = [1, 3, 5, 7, 9, 11]\n",
    "best_val_err = float('inf'); best_alpha = None; best_num_top_titles = None\n",
    "for alpha in alphas:\n",
    "    for num_top_titles in num_top_titles_s:\n",
    "        full_pipeline.set_params(pipeline__coladderdropper__num_top_titles = num_top_titles,mlpregressor__alpha = alpha)\n",
    "        #full_pipeline.set_params(coladderdropper__num_top_titles = num_top_titles, mlpcassifier__alpha = alpha)\n",
    "        full_pipeline = full_pipeline.fit(train_X_df,train_y_sr)\n",
    "        train_err = 100*(1 - full_pipeline.score(train_X_df,train_y_sr))\n",
    "        val_err = 100*(1 - full_pipeline.score(val_X_df,val_y_sr))\n",
    "        train_errs.append(train_err)\n",
    "        val_errs.append(val_err)\n",
    "        if best_val_err > val_err:\n",
    "            best_val_err = val_err\n",
    "            best_alpha = alpha\n",
    "            best_num_top_titles = num_top_titles  \n",
    "        \n",
    "'Finish!'    \n"
   ]
  },
  {
   "cell_type": "code",
   "execution_count": 334,
   "metadata": {},
   "outputs": [
    {
     "data": {
      "image/png": "[encoded data removed]",
      "text/plain": [
       "<Figure size 720x360 with 2 Axes>"
      ]
     },
     "metadata": {
      "needs_background": "light"
     },
     "output_type": "display_data"
    }
   ],
   "source": [
    "# Trực quan hóa kết quả\n",
    "train_errs_df = pd.DataFrame(data=np.array(train_errs).reshape(len(alphas), -1),\n",
    "                             index=alphas, columns=num_top_titles_s)\n",
    "val_errs_df = pd.DataFrame(data=np.array(val_errs).reshape(len(alphas), -1), \n",
    "                           index=alphas, columns=num_top_titles_s)\n",
    "min_err = min(min(train_errs), min(val_errs))\n",
    "max_err = max(max(train_errs), max(val_errs))\n",
    "plt.figure(figsize=(10, 5))\n",
    "plt.subplot(1, 2, 1)\n",
    "sns.heatmap(train_errs_df, vmin=min_err, vmax=max_err, square=True, annot=True, \n",
    "            cbar=False, fmt='.1f', cmap='Reds')\n",
    "plt.title('train errors'); plt.xlabel('num_top_titles'); plt.ylabel('alpha')\n",
    "plt.subplot(1, 2, 2)\n",
    "sns.heatmap(val_errs_df, vmin=min_err, vmax=max_err, square=True, annot=True, \n",
    "            cbar=False, fmt='.1f', cmap='Reds')\n",
    "plt.title('validation errors'); plt.xlabel('num_top_titles'); plt.ylabel('alpha');"
   ]
  },
  {
   "cell_type": "code",
   "execution_count": 335,
   "metadata": {
    "scrolled": true
   },
   "outputs": [
    {
     "name": "stderr",
     "output_type": "stream",
     "text": [
      "C:\\Users\\Admintrastor\\anaconda3\\lib\\site-packages\\sklearn\\neural_network\\_multilayer_perceptron.py:471: ConvergenceWarning: lbfgs failed to converge (status=1):\n",
      "STOP: TOTAL NO. of ITERATIONS REACHED LIMIT.\n",
      "\n",
      "Increase the number of iterations (max_iter) or scale the data as shown in:\n",
      "    https://scikit-learn.org/stable/modules/preprocessing.html\n",
      "  self.n_iter_ = _check_optimize_result(\"lbfgs\", opt_res, self.max_iter)\n"
     ]
    },
    {
     "data": {
      "text/html": [
       "<style>div.sk-top-container {color: black;background-color: white;}div.sk-toggleable {background-color: white;}label.sk-toggleable__label {cursor: pointer;display: block;width: 100%;margin-bottom: 0;padding: 0.2em 0.3em;box-sizing: border-box;text-align: center;}div.sk-toggleable__content {max-height: 0;max-width: 0;overflow: hidden;text-align: left;background-color: #f0f8ff;}div.sk-toggleable__content pre {margin: 0.2em;color: black;border-radius: 0.25em;background-color: #f0f8ff;}input.sk-toggleable__control:checked~div.sk-toggleable__content {max-height: 200px;max-width: 100%;overflow: auto;}div.sk-estimator input.sk-toggleable__control:checked~label.sk-toggleable__label {background-color: #d4ebff;}div.sk-label input.sk-toggleable__control:checked~label.sk-toggleable__label {background-color: #d4ebff;}input.sk-hidden--visually {border: 0;clip: rect(1px 1px 1px 1px);clip: rect(1px, 1px, 1px, 1px);height: 1px;margin: -1px;overflow: hidden;padding: 0;position: absolute;width: 1px;}div.sk-estimator {font-family: monospace;background-color: #f0f8ff;margin: 0.25em 0.25em;border: 1px dotted black;border-radius: 0.25em;box-sizing: border-box;}div.sk-estimator:hover {background-color: #d4ebff;}div.sk-parallel-item::after {content: \"\";width: 100%;border-bottom: 1px solid gray;flex-grow: 1;}div.sk-label:hover label.sk-toggleable__label {background-color: #d4ebff;}div.sk-serial::before {content: \"\";position: absolute;border-left: 1px solid gray;box-sizing: border-box;top: 2em;bottom: 0;left: 50%;}div.sk-serial {display: flex;flex-direction: column;align-items: center;background-color: white;}div.sk-item {z-index: 1;}div.sk-parallel {display: flex;align-items: stretch;justify-content: center;background-color: white;}div.sk-parallel-item {display: flex;flex-direction: column;position: relative;background-color: white;}div.sk-parallel-item:first-child::after {align-self: flex-end;width: 50%;}div.sk-parallel-item:last-child::after {align-self: flex-start;width: 50%;}div.sk-parallel-item:only-child::after {width: 0;}div.sk-dashed-wrapped {border: 1px dashed gray;margin: 0.2em;box-sizing: border-box;padding-bottom: 0.1em;background-color: white;position: relative;}div.sk-label label {font-family: monospace;font-weight: bold;background-color: white;display: inline-block;line-height: 1.2em;}div.sk-label-container {position: relative;z-index: 2;text-align: center;}div.sk-container {display: inline-block;position: relative;}</style><div class=\"sk-top-container\"><div class=\"sk-container\"><div class=\"sk-item sk-dashed-wrapped\"><div class=\"sk-label-container\"><div class=\"sk-label sk-toggleable\"><input class=\"sk-toggleable__control sk-hidden--visually\" id=\"8bc26f80-7c95-4b16-983d-8724d213a304\" type=\"checkbox\" ><label class=\"sk-toggleable__label\" for=\"8bc26f80-7c95-4b16-983d-8724d213a304\">Pipeline</label><div class=\"sk-toggleable__content\"><pre>Pipeline(steps=[('pipeline',\n",
       "                 Pipeline(steps=[('coladderdropper',\n",
       "                                  ColAdderDropper(num_top_titles=11)),\n",
       "                                 ('handle', Handle()), ('onehot', OneHot()),\n",
       "                                 ('standardscaler', StandardScaler())])),\n",
       "                ('mlpregressor',\n",
       "                 MLPRegressor(activation='tanh', alpha=1000,\n",
       "                              hidden_layer_sizes=50, max_iter=5000,\n",
       "                              random_state=0, solver='lbfgs'))])</pre></div></div></div><div class=\"sk-serial\"><div class=\"sk-item\"><div class=\"sk-label-container\"><div class=\"sk-label sk-toggleable\"><input class=\"sk-toggleable__control sk-hidden--visually\" id=\"2a3a24ee-e546-4a3a-a38e-82b36ce48d76\" type=\"checkbox\" ><label class=\"sk-toggleable__label\" for=\"2a3a24ee-e546-4a3a-a38e-82b36ce48d76\">pipeline: Pipeline</label><div class=\"sk-toggleable__content\"><pre>Pipeline(steps=[('coladderdropper', ColAdderDropper(num_top_titles=11)),\n",
       "                ('handle', Handle()), ('onehot', OneHot()),\n",
       "                ('standardscaler', StandardScaler())])</pre></div></div></div><div class=\"sk-serial\"><div class=\"sk-item\"><div class=\"sk-estimator sk-toggleable\"><input class=\"sk-toggleable__control sk-hidden--visually\" id=\"73e21bb6-dffc-4b08-8800-8a10ca26c192\" type=\"checkbox\" ><label class=\"sk-toggleable__label\" for=\"73e21bb6-dffc-4b08-8800-8a10ca26c192\">ColAdderDropper</label><div class=\"sk-toggleable__content\"><pre>ColAdderDropper(num_top_titles=11)</pre></div></div></div><div class=\"sk-item\"><div class=\"sk-estimator sk-toggleable\"><input class=\"sk-toggleable__control sk-hidden--visually\" id=\"bc74dcc5-a808-4f0d-baf0-67101787a353\" type=\"checkbox\" ><label class=\"sk-toggleable__label\" for=\"bc74dcc5-a808-4f0d-baf0-67101787a353\">Handle</label><div class=\"sk-toggleable__content\"><pre>Handle()</pre></div></div></div><div class=\"sk-item\"><div class=\"sk-estimator sk-toggleable\"><input class=\"sk-toggleable__control sk-hidden--visually\" id=\"a1f257c4-0755-474c-8969-4b77724696e2\" type=\"checkbox\" ><label class=\"sk-toggleable__label\" for=\"a1f257c4-0755-474c-8969-4b77724696e2\">OneHot</label><div class=\"sk-toggleable__content\"><pre>OneHot()</pre></div></div></div><div class=\"sk-item\"><div class=\"sk-estimator sk-toggleable\"><input class=\"sk-toggleable__control sk-hidden--visually\" id=\"01dd7f69-bd86-47a5-ae6a-01db2987f346\" type=\"checkbox\" ><label class=\"sk-toggleable__label\" for=\"01dd7f69-bd86-47a5-ae6a-01db2987f346\">StandardScaler</label><div class=\"sk-toggleable__content\"><pre>StandardScaler()</pre></div></div></div></div></div><div class=\"sk-item\"><div class=\"sk-estimator sk-toggleable\"><input class=\"sk-toggleable__control sk-hidden--visually\" id=\"c03b64d2-9dcf-4377-9b09-5fa560827500\" type=\"checkbox\" ><label class=\"sk-toggleable__label\" for=\"c03b64d2-9dcf-4377-9b09-5fa560827500\">MLPRegressor</label><div class=\"sk-toggleable__content\"><pre>MLPRegressor(activation='tanh', alpha=1000, hidden_layer_sizes=50,\n",
       "             max_iter=5000, random_state=0, solver='lbfgs')</pre></div></div></div></div></div></div></div>"
      ],
      "text/plain": [
       "Pipeline(steps=[('pipeline',\n",
       "                 Pipeline(steps=[('coladderdropper',\n",
       "                                  ColAdderDropper(num_top_titles=11)),\n",
       "                                 ('handle', Handle()), ('onehot', OneHot()),\n",
       "                                 ('standardscaler', StandardScaler())])),\n",
       "                ('mlpregressor',\n",
       "                 MLPRegressor(activation='tanh', alpha=1000,\n",
       "                              hidden_layer_sizes=50, max_iter=5000,\n",
       "                              random_state=0, solver='lbfgs'))])"
      ]
     },
     "execution_count": 335,
     "metadata": {},
     "output_type": "execute_result"
    }
   ],
   "source": [
    "\n",
    "full_pipeline.set_params(pipeline__coladderdropper__num_top_titles = num_top_titles,mlpregressor__alpha = alpha)\n",
    "full_pipeline.fit(X_df,y_sr)"
   ]
  },
  {
   "cell_type": "code",
   "execution_count": 355,
   "metadata": {},
   "outputs": [
    {
     "data": {
      "text/plain": [
       "0.4109690947020306"
      ]
     },
     "execution_count": 355,
     "metadata": {},
     "output_type": "execute_result"
    }
   ],
   "source": [
    "results = full_pipeline.score(X_test, y_test)\n",
    "results"
   ]
  },
  {
   "cell_type": "markdown",
   "metadata": {},
   "source": [
    "- Kết quả khá tệ :("
   ]
  }
 ],
 "metadata": {
  "kernelspec": {
   "display_name": "Python 3",
   "language": "python",
   "name": "python3"
  },
  "language_info": {
   "codemirror_mode": {
    "name": "ipython",
    "version": 3
   },
   "file_extension": ".py",
   "mimetype": "text/x-python",
   "name": "python",
   "nbconvert_exporter": "python",
   "pygments_lexer": "ipython3",
   "version": "3.8.3"
  }
 },
 "nbformat": 4,
 "nbformat_minor": 4
}
