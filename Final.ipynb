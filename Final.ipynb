{
 "cells": [
  {
   "cell_type": "code",
   "execution_count": 62,
   "metadata": {},
   "outputs": [],
   "source": [
    "import requests\n",
    "from bs4 import BeautifulSoup\n",
    "import json\n",
    "import time # Dùng để sleep chương trình\n",
    "import pandas as pd # Dùng để đọc và hiển thị file csv (Pandas sẽ được học chi tiết ở buổi tới)\n",
    "import datetime as dt # Dùng để xử lý dữ liệu thời gian\n",
    "import re\n",
    "import numpy as np"
   ]
  },
  {
   "cell_type": "markdown",
   "metadata": {},
   "source": [
    "---\n",
    "## 1. Thu thập dữ liệu từ web Zillow bằng cách parse HTML \n",
    "File này gồm có các cột:\n",
    "- Address: Địa chỉ nhà.\n",
    "- Price: Gía nhà (là giá của nhà đã bán).\n",
    "- Bedrooms: số phòng ngủ.\n",
    "- Bathrooms: số phòng tắm.\n",
    "- Living Area: Diện tích căn nhà (sqft).\n",
    "- Heating : Hệ thống sưởi.\n",
    "- Basement : Tầng hầm(Yes/No).\n",
    "- Yearbuild: Năm xây dựng.\n",
    "- Fireplace: Lò sưởi(Yes/No).\n",
    "- Garage: Nhà xe.\n"
   ]
  },
  {
   "cell_type": "code",
   "execution_count": 38,
   "metadata": {},
   "outputs": [],
   "source": [
    "Total_pages=10\n",
    "req_headers = {\n",
    "    'accept':'text/html,application/xhtml+xml,application/xml;q=0.9,image/webp,*/*;q=0.8',\n",
    "    'accept-encoding':'gzip, deflate, sdch, br',\n",
    "    'accept-language':'en-GB,en;q=0.8,en-US;q=0.6,ml;q=0.4',\n",
    "    'cache-control':'max-age=0',\n",
    "    'upgrade-insecure-requests':'1',\n",
    "    'user-agent':'Mozilla/5.0 (X11; Linux x86_64) AppleWebKit/537.36 (KHTML, like Gecko) Chrome/56.0.2924.87 Safari/537.36'}\n",
    "courses =pd.DataFrame()\n",
    "Address_ =[]\n",
    "Price_=[]\n",
    "Bedrooms_=[]\n",
    "Bathrooms_ =[]\n",
    "LivingArea_ = []\n",
    "Heating_ =[]\n",
    "Basement_ =[]\n",
    "Yearbuild_ =[]\n",
    "Fireplace_ =[]\n",
    "Garage_ =[]\n",
    "with requests.Session() as s:\n",
    "    page =1\n",
    "    url = 'https://www.zillow.com/manchester-ct/sold/?searchQueryState=%7B\"pagination\"%3A%7B%7D%2C\"usersSearchTerm\"%3A\"Manchester%2C%20CT\"%2C\"mapBounds\"%3A%7B\"west\"%3A-72.62056917797851%2C\"east\"%3A-72.42659182202148%2C\"south\"%3A41.72559685174378%2C\"north\"%3A41.82852106786825%7D%2C\"regionSelection\"%3A%5B%7B\"regionId\"%3A398963%2C\"regionType\"%3A6%7D%5D%2C\"isMapVisible\"%3Atrue%2C\"filterState\"%3A%7B\"fsba\"%3A%7B\"value\"%3Afalse%7D%2C\"fsbo\"%3A%7B\"value\"%3Afalse%7D%2C\"nc\"%3A%7B\"value\"%3Afalse%7D%2C\"fore\"%3A%7B\"value\"%3Afalse%7D%2C\"cmsn\"%3A%7B\"value\"%3Afalse%7D%2C\"auc\"%3A%7B\"value\"%3Afalse%7D%2C\"pmf\"%3A%7B\"value\"%3Afalse%7D%2C\"pf\"%3A%7B\"value\"%3Afalse%7D%2C\"rs\"%3A%7B\"value\"%3Atrue%7D%2C\"ah\"%3A%7B\"value\"%3Atrue%7D%7D%2C\"isListVisible\"%3Atrue%2C\"mapZoom\"%3A13%7D'\n",
    "    while(page < Total_pages):\n",
    "        time.sleep(1)\n",
    "        r = s.get(url, headers=req_headers)\n",
    "        soup = BeautifulSoup(r.content, 'html.parser')\n",
    "        detailLink = soup.find_all('a',{'class':'list-card-link list-card-link-top-margin list-card-img'})\n",
    "        prices = soup.find_all('div',{'class':'list-card-price'})\n",
    "        for price in prices:\n",
    "            Price_.append(price.text)\n",
    "        address = soup.find_all('address',{'class':'list-card-addr'})\n",
    "        for addr in address:\n",
    "            Address_.append(addr.text)\n",
    "        page+=1\n",
    "        url ='https://www.zillow.com/manchester-nh/sold/' +str(page)+'_p/'\n",
    "        for link in detailLink:\n",
    "            detail = s.get(link['href'],headers=req_headers)\n",
    "            soup1 = BeautifulSoup(detail.content, 'html.parser')\n",
    "            bbl = soup1.find_all('span',{'class':'ds-bed-bath-living-area'},limit =3) # bed-bad-livingarea\n",
    "            bed_bad_livingarea =''\n",
    "            for i in bbl:\n",
    "                bed_bad_livingarea+= i.text +'\\t'\n",
    "            Bedrooms_.append(bed_bad_livingarea.split('\\t')[0])\n",
    "            Bathrooms_.append(bed_bad_livingarea.split('\\t')[1])\n",
    "            LivingArea_.append(bed_bad_livingarea.split('\\t')[2])\n",
    "            heating = soup1.find(\"span\",string=re.compile(\"Heating:\"))\n",
    "            if heating is not None:\n",
    "                heating = heating.find_next_sibling('span').text\n",
    "                Heating_.append(heating)\n",
    "            else:\n",
    "                Heating_.append('None')\n",
    "            basement = soup1.find(\"span\",string=re.compile(\"Basement\"))\n",
    "            if basement is not None:\n",
    "                if ':' in basement.find_next('span').text:\n",
    "                    basement = basement.find_next('span').text.split(':')[1]\n",
    "                    Basement_.append(basement)\n",
    "                else:\n",
    "                    Basement_.append('None')\n",
    "            else:\n",
    "                    Basement_.append('None')\n",
    "            yearbuild = soup1.find(\"span\",string=re.compile(\"Condition\"))\n",
    "            if yearbuild is not None:\n",
    "                if ':' in yearbuild.find_next('span').text:\n",
    "                    yearbuild = yearbuild.find_next('span').text.split(': ')[1]\n",
    "                    Yearbuild_.append(yearbuild)\n",
    "                else:\n",
    "                    Yearbuild_.append('None')\n",
    "            else:\n",
    "                    Yearbuild_.append('None')\n",
    "\n",
    "            fireplace = soup1.find(\"h5\",string=re.compile(\"Property details\"))\n",
    "            if fireplace is not None:\n",
    "                if 'Fireplace:' in fireplace.find_previous('span').text:\n",
    "                    fireplace = fireplace.find_previous('span').text.split(': ')[1]\n",
    "                    Fireplace_.append(fireplace)\n",
    "                else:\n",
    "                    Fireplace_.append('None')\n",
    "            else:\n",
    "                    Fireplace_.append('None')\n",
    "\n",
    "            garage = soup1.find(\"span\",string=re.compile(\"Property\"))\n",
    "            if garage is not None:\n",
    "                if 'Garage spaces:' in garage.find_previous('span').text:\n",
    "                    garage = garage.find_previous('span').text.split(': ')[1]\n",
    "                    Garage_.append(garage)\n",
    "                else:\n",
    "                    Garage_.append('None')\n",
    "            else:\n",
    "                    Garage_.append('None')\n",
    "\n",
    "courses['Address'] = Address_\n",
    "courses['Bedrooms'] = Bedrooms_\n",
    "courses['Bathrooms'] = Bathrooms_\n",
    "courses['LivingArea'] = LivingArea_\n",
    "courses['Heating'] = Heating_\n",
    "courses['Basement'] = Basement_\n",
    "courses['YearBuild'] = Yearbuild_\n",
    "courses['Fireplace'] = Fireplace_\n",
    "courses['Garage'] = Garage_\n",
    "courses['Price'] = Price_\n",
    "courses.to_csv('courses.csv')"
   ]
  },
  {
   "cell_type": "markdown",
   "metadata": {},
   "source": [
    "---\n",
    "## 2. Khám phá dữ liệu"
   ]
  },
  {
   "cell_type": "code",
   "execution_count": 87,
   "metadata": {},
   "outputs": [
    {
     "data": {
      "text/html": [
       "<div>\n",
       "<style scoped>\n",
       "    .dataframe tbody tr th:only-of-type {\n",
       "        vertical-align: middle;\n",
       "    }\n",
       "\n",
       "    .dataframe tbody tr th {\n",
       "        vertical-align: top;\n",
       "    }\n",
       "\n",
       "    .dataframe thead th {\n",
       "        text-align: right;\n",
       "    }\n",
       "</style>\n",
       "<table border=\"1\" class=\"dataframe\">\n",
       "  <thead>\n",
       "    <tr style=\"text-align: right;\">\n",
       "      <th></th>\n",
       "      <th>Address</th>\n",
       "      <th>Bedrooms</th>\n",
       "      <th>Bathrooms</th>\n",
       "      <th>LivingArea</th>\n",
       "      <th>Heating</th>\n",
       "      <th>Basement</th>\n",
       "      <th>YearBuild</th>\n",
       "      <th>Fireplace</th>\n",
       "      <th>Garage</th>\n",
       "      <th>Price</th>\n",
       "    </tr>\n",
       "  </thead>\n",
       "  <tbody>\n",
       "    <tr>\n",
       "      <th>0</th>\n",
       "      <td>216 Walek Farms Rd, Manchester, CT 06040</td>\n",
       "      <td>3 bd</td>\n",
       "      <td>3 ba</td>\n",
       "      <td>2,556 sqft</td>\n",
       "      <td>Baseboard, Gas</td>\n",
       "      <td>Finished</td>\n",
       "      <td>1995</td>\n",
       "      <td>Yes</td>\n",
       "      <td>2</td>\n",
       "      <td>$300,000</td>\n",
       "    </tr>\n",
       "    <tr>\n",
       "      <th>1</th>\n",
       "      <td>39 S Hawthorne St, Manchester, CT 06040</td>\n",
       "      <td>3 bd</td>\n",
       "      <td>1 ba</td>\n",
       "      <td>1,080 sqft</td>\n",
       "      <td>Forced air, Gas</td>\n",
       "      <td>Partially finished</td>\n",
       "      <td>1945</td>\n",
       "      <td>None</td>\n",
       "      <td>0</td>\n",
       "      <td>$170,000</td>\n",
       "    </tr>\n",
       "    <tr>\n",
       "      <th>2</th>\n",
       "      <td>16 Saddle Hill Rd, Manchester, CT 06040</td>\n",
       "      <td>4 bd</td>\n",
       "      <td>4 ba</td>\n",
       "      <td>3,832 sqft</td>\n",
       "      <td>Forced air</td>\n",
       "      <td>Finished</td>\n",
       "      <td>2007</td>\n",
       "      <td>Yes</td>\n",
       "      <td>2</td>\n",
       "      <td>$447,900</td>\n",
       "    </tr>\n",
       "    <tr>\n",
       "      <th>3</th>\n",
       "      <td>99 Pond Ln, Manchester, CT 06042</td>\n",
       "      <td>4 bd</td>\n",
       "      <td>3 ba</td>\n",
       "      <td>1,852 sqft</td>\n",
       "      <td>Forced air, Oil</td>\n",
       "      <td>NaN</td>\n",
       "      <td>1964</td>\n",
       "      <td>Yes</td>\n",
       "      <td>3</td>\n",
       "      <td>$299,000</td>\n",
       "    </tr>\n",
       "    <tr>\n",
       "      <th>4</th>\n",
       "      <td>430 E Center St #430, Manchester, CT 06040</td>\n",
       "      <td>1 bd</td>\n",
       "      <td>1.5 ba</td>\n",
       "      <td>1,074 sqft</td>\n",
       "      <td>Forced air, Gas</td>\n",
       "      <td>None</td>\n",
       "      <td>1976</td>\n",
       "      <td>None</td>\n",
       "      <td>0</td>\n",
       "      <td>$1,200</td>\n",
       "    </tr>\n",
       "  </tbody>\n",
       "</table>\n",
       "</div>"
      ],
      "text/plain": [
       "                                      Address Bedrooms Bathrooms  LivingArea  \\\n",
       "0    216 Walek Farms Rd, Manchester, CT 06040     3 bd      3 ba  2,556 sqft   \n",
       "1     39 S Hawthorne St, Manchester, CT 06040     3 bd      1 ba  1,080 sqft   \n",
       "2     16 Saddle Hill Rd, Manchester, CT 06040     4 bd      4 ba  3,832 sqft   \n",
       "3            99 Pond Ln, Manchester, CT 06042     4 bd      3 ba  1,852 sqft   \n",
       "4  430 E Center St #430, Manchester, CT 06040     1 bd    1.5 ba  1,074 sqft   \n",
       "\n",
       "           Heating             Basement YearBuild Fireplace Garage     Price  \n",
       "0   Baseboard, Gas             Finished      1995       Yes      2  $300,000  \n",
       "1  Forced air, Gas   Partially finished      1945      None      0  $170,000  \n",
       "2       Forced air             Finished      2007       Yes      2  $447,900  \n",
       "3  Forced air, Oil                  NaN      1964       Yes      3  $299,000  \n",
       "4  Forced air, Gas                 None      1976      None      0    $1,200  "
      ]
     },
     "execution_count": 87,
     "metadata": {},
     "output_type": "execute_result"
    }
   ],
   "source": [
    "# Đọc dữ liệu\n",
    "House_df = pd.read_csv('courses.csv',index_col=0)\n",
    "House_df.head()"
   ]
  },
  {
   "cell_type": "markdown",
   "metadata": {},
   "source": [
    "### Shape của dữ liệu"
   ]
  },
  {
   "cell_type": "code",
   "execution_count": 98,
   "metadata": {},
   "outputs": [
    {
     "data": {
      "text/plain": [
       "(360, 10)"
      ]
     },
     "execution_count": 98,
     "metadata": {},
     "output_type": "execute_result"
    }
   ],
   "source": [
    "House_df.shape"
   ]
  },
  {
   "cell_type": "code",
   "execution_count": 88,
   "metadata": {},
   "outputs": [
    {
     "data": {
      "text/plain": [
       "dtype('O')"
      ]
     },
     "execution_count": 88,
     "metadata": {},
     "output_type": "execute_result"
    }
   ],
   "source": [
    "# Cột output hiện có kiểu dữ liệu gì?\n",
    "House_df['Price'].dtype"
   ]
  },
  {
   "cell_type": "code",
   "execution_count": 89,
   "metadata": {},
   "outputs": [
    {
     "data": {
      "text/plain": [
       "0"
      ]
     },
     "execution_count": 89,
     "metadata": {},
     "output_type": "execute_result"
    }
   ],
   "source": [
    "# Cột output có giá trị thiếu không?\n",
    "House_df['Price'].isna().sum()"
   ]
  },
  {
   "cell_type": "code",
   "execution_count": 95,
   "metadata": {},
   "outputs": [
    {
     "data": {
      "text/html": [
       "<div>\n",
       "<style scoped>\n",
       "    .dataframe tbody tr th:only-of-type {\n",
       "        vertical-align: middle;\n",
       "    }\n",
       "\n",
       "    .dataframe tbody tr th {\n",
       "        vertical-align: top;\n",
       "    }\n",
       "\n",
       "    .dataframe thead th {\n",
       "        text-align: right;\n",
       "    }\n",
       "</style>\n",
       "<table border=\"1\" class=\"dataframe\">\n",
       "  <thead>\n",
       "    <tr style=\"text-align: right;\">\n",
       "      <th></th>\n",
       "      <th>Address</th>\n",
       "      <th>Bedrooms</th>\n",
       "      <th>Bathrooms</th>\n",
       "      <th>LivingArea</th>\n",
       "      <th>Heating</th>\n",
       "      <th>Basement</th>\n",
       "      <th>YearBuild</th>\n",
       "      <th>Fireplace</th>\n",
       "      <th>Garage</th>\n",
       "      <th>Price</th>\n",
       "    </tr>\n",
       "  </thead>\n",
       "  <tbody>\n",
       "    <tr>\n",
       "      <th>count</th>\n",
       "      <td>360</td>\n",
       "      <td>360</td>\n",
       "      <td>360</td>\n",
       "      <td>360</td>\n",
       "      <td>360</td>\n",
       "      <td>358</td>\n",
       "      <td>360</td>\n",
       "      <td>360</td>\n",
       "      <td>360</td>\n",
       "      <td>360</td>\n",
       "    </tr>\n",
       "    <tr>\n",
       "      <th>unique</th>\n",
       "      <td>349</td>\n",
       "      <td>13</td>\n",
       "      <td>10</td>\n",
       "      <td>298</td>\n",
       "      <td>67</td>\n",
       "      <td>20</td>\n",
       "      <td>104</td>\n",
       "      <td>2</td>\n",
       "      <td>9</td>\n",
       "      <td>208</td>\n",
       "    </tr>\n",
       "    <tr>\n",
       "      <th>top</th>\n",
       "      <td>503 Granite St, Manchester, NH 03102</td>\n",
       "      <td>3 bd</td>\n",
       "      <td>2 ba</td>\n",
       "      <td>1,200 sqft</td>\n",
       "      <td>Forced air, Gas</td>\n",
       "      <td>Yes</td>\n",
       "      <td>1950</td>\n",
       "      <td>None</td>\n",
       "      <td>0</td>\n",
       "      <td>$380,000</td>\n",
       "    </tr>\n",
       "    <tr>\n",
       "      <th>freq</th>\n",
       "      <td>2</td>\n",
       "      <td>146</td>\n",
       "      <td>121</td>\n",
       "      <td>5</td>\n",
       "      <td>55</td>\n",
       "      <td>191</td>\n",
       "      <td>20</td>\n",
       "      <td>281</td>\n",
       "      <td>132</td>\n",
       "      <td>8</td>\n",
       "    </tr>\n",
       "  </tbody>\n",
       "</table>\n",
       "</div>"
      ],
      "text/plain": [
       "                                     Address Bedrooms Bathrooms  LivingArea  \\\n",
       "count                                    360      360       360         360   \n",
       "unique                                   349       13        10         298   \n",
       "top     503 Granite St, Manchester, NH 03102     3 bd      2 ba  1,200 sqft   \n",
       "freq                                       2      146       121           5   \n",
       "\n",
       "                Heating Basement YearBuild Fireplace Garage     Price  \n",
       "count               360      358       360       360    360       360  \n",
       "unique               67       20       104         2      9       208  \n",
       "top     Forced air, Gas      Yes      1950      None      0  $380,000  \n",
       "freq                 55      191        20       281    132         8  "
      ]
     },
     "execution_count": 95,
     "metadata": {},
     "output_type": "execute_result"
    }
   ],
   "source": [
    "# xem thêm mô tả về dữ liệu\n",
    "House_df.describe()"
   ]
  },
  {
   "cell_type": "markdown",
   "metadata": {},
   "source": [
    "- Ta thấy cột Address có giá trị xuất hiện 2 lần, có nghĩa là có giá trị bị lặp\n",
    "- Điều này là do zillow thường render 1 cách random(theo cách nào đó) các ngôi nhà ĐÃ BÁN -> bị lặp"
   ]
  },
  {
   "cell_type": "code",
   "execution_count": 97,
   "metadata": {},
   "outputs": [
    {
     "data": {
      "text/plain": [
       "11"
      ]
     },
     "execution_count": 97,
     "metadata": {},
     "output_type": "execute_result"
    }
   ],
   "source": [
    "# kiểm tra dữ liệu xem bị lặp bao nhiêu lần\n",
    "House_df.Address.duplicated().sum()"
   ]
  },
  {
   "cell_type": "markdown",
   "metadata": {},
   "source": [
    "---\n",
    "## 3. Tiền xử lý dữ liệu\n"
   ]
  },
  {
   "cell_type": "markdown",
   "metadata": {},
   "source": [
    "### Xử lí thô\n"
   ]
  },
  {
   "cell_type": "code",
   "execution_count": 77,
   "metadata": {},
   "outputs": [
    {
     "data": {
      "text/plain": [
       "array(['3', '4', '1', nan, '2', '6', '7', '5', '10', '12', '18', '8', '9'],\n",
       "      dtype=object)"
      ]
     },
     "execution_count": 77,
     "metadata": {},
     "output_type": "execute_result"
    }
   ],
   "source": [
    "# tiền xử lý cột bedrooms\n",
    "# Loại bỏ kí tự \"bd\", giữ lại số\n",
    "# với những giá trị thiếu, ví dụ \"-- bd\" ta thay bằng np.nan\n",
    "for idx,value in House_df['Bedrooms'].items():\n",
    "    num = value.split(' ')[0]\n",
    "    if num == '--':\n",
    "        House_df['Bedrooms'][idx]= np.nan\n",
    "    else:\n",
    "        House_df['Bedrooms'][idx]= num\n",
    "House_df['Bedrooms'].unique()"
   ]
  },
  {
   "cell_type": "code",
   "execution_count": 78,
   "metadata": {},
   "outputs": [
    {
     "data": {
      "text/plain": [
       "array(['3', '1', '4', '1.5', '5', '2', '2.5', nan, '3.5', '1.75'],\n",
       "      dtype=object)"
      ]
     },
     "execution_count": 78,
     "metadata": {},
     "output_type": "execute_result"
    }
   ],
   "source": [
    "# tiền xử lý cột Bathrooms\n",
    "# Loại bỏ kí tự \"ba\", giữ lại số\n",
    "# với những giá trị thiếu, ví dụ \"-- ba\" ta thay bằng np.nan\n",
    "for idx,value in House_df['Bathrooms'].items():\n",
    "    num = value.split(' ')[0]\n",
    "    if num == '--':\n",
    "        House_df['Bathrooms'][idx]= np.nan\n",
    "    else:\n",
    "        House_df['Bathrooms'][idx]= num\n",
    "House_df['Bathrooms'].unique()"
   ]
  },
  {
   "cell_type": "code",
   "execution_count": 79,
   "metadata": {},
   "outputs": [
    {
     "data": {
      "text/plain": [
       "0      2,556\n",
       "1      1,080\n",
       "2      3,832\n",
       "3      1,852\n",
       "4      1,074\n",
       "       ...  \n",
       "355    1,468\n",
       "356    1,638\n",
       "357    3,200\n",
       "358    2,116\n",
       "359    1,845\n",
       "Name: LivingArea, Length: 360, dtype: object"
      ]
     },
     "execution_count": 79,
     "metadata": {},
     "output_type": "execute_result"
    }
   ],
   "source": [
    "# tiền xử lý cột Livingarea\n",
    "# Loại bỏ kí tự \"sqft\", giữ lại số\n",
    "# với những giá trị thiếu, ví dụ \"-- sqft\" ta thay bằng np.nan\n",
    "for idx,value in House_df['LivingArea'].items():\n",
    "    num = value.split(' ')[0]\n",
    "    if num == '--':\n",
    "        House_df['LivingArea'][idx]= np.nan\n",
    "    else:\n",
    "        House_df['LivingArea'][idx]= num\n",
    "House_df['LivingArea']"
   ]
  },
  {
   "cell_type": "code",
   "execution_count": 83,
   "metadata": {},
   "outputs": [
    {
     "data": {
      "text/plain": [
       "0"
      ]
     },
     "execution_count": 83,
     "metadata": {},
     "output_type": "execute_result"
    }
   ],
   "source": []
  },
  {
   "cell_type": "code",
   "execution_count": null,
   "metadata": {},
   "outputs": [],
   "source": []
  }
 ],
 "metadata": {
  "kernelspec": {
   "display_name": "Python 3",
   "language": "python",
   "name": "python3"
  },
  "language_info": {
   "codemirror_mode": {
    "name": "ipython",
    "version": 3
   },
   "file_extension": ".py",
   "mimetype": "text/x-python",
   "name": "python",
   "nbconvert_exporter": "python",
   "pygments_lexer": "ipython3",
   "version": "3.8.3"
  }
 },
 "nbformat": 4,
 "nbformat_minor": 4
}
